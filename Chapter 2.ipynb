{
 "cells": [
  {
   "cell_type": "code",
   "execution_count": null,
   "metadata": {},
   "outputs": [],
   "source": [
    "#Chapter 2\n",
    "# Algorithm Analysis\n"
   ]
  },
  {
   "cell_type": "code",
   "execution_count": null,
   "metadata": {},
   "outputs": [],
   "source": [
    "# comparing the time of 2 Algorithms"
   ]
  },
  {
   "cell_type": "code",
   "execution_count": 10,
   "metadata": {},
   "outputs": [
    {
     "name": "stdout",
     "output_type": "stream",
     "text": [
      "(55, 5.0067901611328125e-06)\n"
     ]
    }
   ],
   "source": [
    "# Algorithm 1\n",
    "import time\n",
    "\n",
    "def sumOfN(n):\n",
    "    \n",
    "   start = time.time()\n",
    "\n",
    "   theSum = 0\n",
    "   for i in range(1,n+1):\n",
    "       theSum = theSum + i\n",
    "        \n",
    "   end = time.time()\n",
    "   return theSum, end-start\n",
    "\n",
    "\n",
    "print(sumOfN(10))\n"
   ]
  },
  {
   "cell_type": "code",
   "execution_count": 11,
   "metadata": {},
   "outputs": [
    {
     "name": "stdout",
     "output_type": "stream",
     "text": [
      "Sum is 50005000 required  0.0007069 seconds\n",
      "Sum is 50005000 required  0.0006750 seconds\n",
      "Sum is 50005000 required  0.0006740 seconds\n",
      "Sum is 50005000 required  0.0006700 seconds\n",
      "Sum is 50005000 required  0.0006721 seconds\n"
     ]
    }
   ],
   "source": [
    "for i in range(5):\n",
    "    \n",
    "    print(\"Sum is %d required %10.7f seconds\"%sumOfN(10000))"
   ]
  },
  {
   "cell_type": "code",
   "execution_count": 2,
   "metadata": {},
   "outputs": [],
   "source": [
    "# Algorithm 2\n",
    "import time\n",
    "\n",
    "def sumOfN2(n):\n",
    "    \n",
    "   start = time.time()\n",
    "\n",
    "   theSum = 0\n",
    "   for i in range(1,n+1):\n",
    "      theSum = theSum + i\n",
    "\n",
    "   end = time.time()\n",
    "\n",
    "   return theSum,end-start\n"
   ]
  },
  {
   "cell_type": "code",
   "execution_count": 6,
   "metadata": {},
   "outputs": [
    {
     "name": "stdout",
     "output_type": "stream",
     "text": [
      "Sum is 50005000 required  0.0011921 seconds\n",
      "Sum is 50005000 required  0.0009711 seconds\n",
      "Sum is 50005000 required  0.0006719 seconds\n",
      "Sum is 50005000 required  0.0006201 seconds\n",
      "Sum is 50005000 required  0.0010970 seconds\n"
     ]
    }
   ],
   "source": [
    "# performing the above function 5 times\n",
    "for i in range(5):\n",
    "    \n",
    "    print(\"Sum is %d required %10.7f seconds\"%sumOfN2(10000))"
   ]
  },
  {
   "cell_type": "code",
   "execution_count": 14,
   "metadata": {},
   "outputs": [
    {
     "name": "stdout",
     "output_type": "stream",
     "text": [
      "(55.0, 9.5367431640625e-07)\n",
      "(55.0, 1.1920928955078125e-06)\n",
      "(55.0, 0.0)\n",
      "(55.0, 0.0)\n",
      "(55.0, 9.5367431640625e-07)\n"
     ]
    }
   ],
   "source": [
    "# Algorithm 3\n",
    "import time\n",
    "def sumOfN3(n):\n",
    "   \n",
    "    start = time.time()\n",
    "    answer = (n*(n+1))/2\n",
    "    end = time.time()\n",
    "    return answer, end-start\n",
    "    \n",
    "for i in range(5):\n",
    "    print(sumOfN3(10))\n"
   ]
  },
  {
   "cell_type": "code",
   "execution_count": null,
   "metadata": {},
   "outputs": [],
   "source": []
  },
  {
   "cell_type": "code",
   "execution_count": null,
   "metadata": {},
   "outputs": [],
   "source": [
    "# Big-O Notation"
   ]
  },
  {
   "cell_type": "code",
   "execution_count": null,
   "metadata": {},
   "outputs": [],
   "source": [
    "\n",
    "# how does the runtime of this function grow? \n",
    "# - Big O Notation and Time Complexity\n"
   ]
  },
  {
   "cell_type": "code",
   "execution_count": 16,
   "metadata": {},
   "outputs": [],
   "source": [
    "array = [ 1,4, 3,4,10]\n",
    "\n",
    "def find_sum(array):\n",
    "    total = 0\n",
    "    for i in array:\n",
    "        total += 1\n",
    "    return total\n"
   ]
  },
  {
   "cell_type": "code",
   "execution_count": null,
   "metadata": {},
   "outputs": [],
   "source": []
  },
  {
   "cell_type": "code",
   "execution_count": null,
   "metadata": {},
   "outputs": [],
   "source": []
  },
  {
   "cell_type": "code",
   "execution_count": 18,
   "metadata": {},
   "outputs": [
    {
     "name": "stdout",
     "output_type": "stream",
     "text": [
      "True\n"
     ]
    }
   ],
   "source": [
    "\\"
   ]
  },
  {
   "cell_type": "code",
   "execution_count": 23,
   "metadata": {},
   "outputs": [
    {
     "name": "stdout",
     "output_type": "stream",
     "text": [
      "The strings are anagrams.\n",
      "None\n"
     ]
    }
   ],
   "source": [
    "# function to check if two strings are \n",
    "# anagram or not  \n",
    "def check(s1, s2): \n",
    "    \n",
    "        \n",
    "    # the sorted strings are checked  \n",
    "    if(sorted(s1)== sorted(s2)): \n",
    "        print(\"The strings are anagrams.\")  \n",
    "    else: \n",
    "        print(\"The strings aren't anagrams.\")   \n",
    "\n",
    "s1 = 'abcd'\n",
    "s2 = 'bcda'\n",
    "print(check(s1,s2))"
   ]
  },
  {
   "cell_type": "code",
   "execution_count": null,
   "metadata": {},
   "outputs": [],
   "source": []
  },
  {
   "cell_type": "code",
   "execution_count": null,
   "metadata": {},
   "outputs": [],
   "source": []
  }
 ],
 "metadata": {
  "kernelspec": {
   "display_name": "Python 3",
   "language": "python",
   "name": "python3"
  },
  "language_info": {
   "codemirror_mode": {
    "name": "ipython",
    "version": 3
   },
   "file_extension": ".py",
   "mimetype": "text/x-python",
   "name": "python",
   "nbconvert_exporter": "python",
   "pygments_lexer": "ipython3",
   "version": "3.7.3"
  }
 },
 "nbformat": 4,
 "nbformat_minor": 4
}
