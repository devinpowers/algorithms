{
 "cells": [
  {
   "cell_type": "code",
   "execution_count": null,
   "metadata": {},
   "outputs": [],
   "source": []
  },
  {
   "cell_type": "code",
   "execution_count": 1,
   "metadata": {},
   "outputs": [],
   "source": [
    "class Graph:\n",
    "    \n",
    "    def __init__(self, Nodes, is_directed = False):\n",
    "        self.nodes = Nodes\n",
    "        self.adj_list = {}\n",
    "        \n",
    "        self.is_directed = is_directed\n",
    "        \n",
    "        for node in self.nodes:\n",
    "            self.adj_list[node] = []\n",
    "            \n",
    "    def add_edge(self, u, v):\n",
    "        self.adj_list[u].append(v)\n",
    "        \n",
    "        if not self.is_directed:\n",
    "            \n",
    "            self.adj_list[v].append(u)\n",
    "        \n",
    "    \n",
    "    def degree(self,node):\n",
    "        '''Total number of edges coming out a given node'''\n",
    "        deg = len(self.adj_list[node])\n",
    "        return deg\n",
    "    \n",
    "    def print_adj_list(self):\n",
    "        \n",
    "        for node in self.nodes:\n",
    "            print(node, \"->\", self.adj_list[node])\n",
    "    \n",
    "    def __getitem__(self, node):\n",
    "        \n",
    "        return self.adj_list[node]\n",
    "        \n",
    "        \n",
    "            "
   ]
  },
  {
   "cell_type": "code",
   "execution_count": 2,
   "metadata": {},
   "outputs": [],
   "source": [
    "all_edges = [\n",
    "    \n",
    "    (\"A\",\"B\"),(\"A\",\"C\"),(\"B\",\"D\"),(\"C\",\"D\"),(\"C\",\"E\"),(\"D\",\"E\")\n",
    "]"
   ]
  },
  {
   "cell_type": "code",
   "execution_count": 3,
   "metadata": {},
   "outputs": [],
   "source": [
    "nodes = [\"A\",\"B\",\"C\",\"D\",\"E\"]"
   ]
  },
  {
   "cell_type": "code",
   "execution_count": 4,
   "metadata": {},
   "outputs": [
    {
     "name": "stdout",
     "output_type": "stream",
     "text": [
      "A -> []\n",
      "B -> []\n",
      "C -> []\n",
      "D -> []\n",
      "E -> []\n"
     ]
    }
   ],
   "source": [
    "graph1 = Graph(nodes)\n",
    "graph1.print_adj_list()"
   ]
  },
  {
   "cell_type": "code",
   "execution_count": 5,
   "metadata": {},
   "outputs": [
    {
     "name": "stdout",
     "output_type": "stream",
     "text": [
      "A -> ['B', 'C']\n",
      "B -> ['A', 'D']\n",
      "C -> ['A', 'D', 'E']\n",
      "D -> ['B', 'C', 'E']\n",
      "E -> ['C', 'D']\n"
     ]
    }
   ],
   "source": [
    "for u,v in all_edges:\n",
    "    graph1.add_edge(u,v)\n",
    "\n",
    "##graph.add_edge(\"A\",\"B\")\n",
    "graph1.print_adj_list()"
   ]
  },
  {
   "cell_type": "code",
   "execution_count": null,
   "metadata": {},
   "outputs": [],
   "source": []
  },
  {
   "cell_type": "code",
   "execution_count": null,
   "metadata": {},
   "outputs": [],
   "source": []
  },
  {
   "cell_type": "code",
   "execution_count": null,
   "metadata": {},
   "outputs": [],
   "source": []
  }
 ],
 "metadata": {
  "kernelspec": {
   "display_name": "Python 3",
   "language": "python",
   "name": "python3"
  },
  "language_info": {
   "codemirror_mode": {
    "name": "ipython",
    "version": 3
   },
   "file_extension": ".py",
   "mimetype": "text/x-python",
   "name": "python",
   "nbconvert_exporter": "python",
   "pygments_lexer": "ipython3",
   "version": "3.8.3"
  }
 },
 "nbformat": 4,
 "nbformat_minor": 4
}
