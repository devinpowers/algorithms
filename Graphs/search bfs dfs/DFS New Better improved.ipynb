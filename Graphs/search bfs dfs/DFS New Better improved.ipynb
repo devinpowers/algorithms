{
 "cells": [
  {
   "cell_type": "code",
   "execution_count": 1,
   "metadata": {},
   "outputs": [],
   "source": [
    "\n",
    "graph1 = {\n",
    "    'A' : ['B','S'],\n",
    "    'B' : ['A'],\n",
    "    'C' : ['D','E','F','S'],\n",
    "    'D' : ['C'],\n",
    "    'E' : ['C','H'],\n",
    "    'F' : ['C','G'],\n",
    "    'G' : ['F','S'],\n",
    "    'H' : ['E','G'],\n",
    "    'S' : ['A','C','G']\n",
    "}\n",
    " \n",
    "\n"
   ]
  },
  {
   "cell_type": "code",
   "execution_count": 5,
   "metadata": {},
   "outputs": [],
   "source": [
    "\n",
    "visited = []\n",
    "\n",
    "def dfs(graph, node):\n",
    "    print(node)\n",
    "    \n",
    "    if node not in visited:\n",
    "        visited.append(node)\n",
    "        for neighbor in graph[node]:\n",
    "            \n",
    "            print(\"Neighbor:\", neighbor)\n",
    "            dfs(graph,neighbor)\n",
    "    return visited"
   ]
  },
  {
   "cell_type": "code",
   "execution_count": 6,
   "metadata": {},
   "outputs": [
    {
     "name": "stdout",
     "output_type": "stream",
     "text": [
      "A\n",
      "Neighbor: B\n",
      "B\n",
      "Neighbor: A\n",
      "A\n",
      "Neighbor: S\n",
      "S\n",
      "Neighbor: A\n",
      "A\n",
      "Neighbor: C\n",
      "C\n",
      "Neighbor: D\n",
      "D\n",
      "Neighbor: C\n",
      "C\n",
      "Neighbor: E\n",
      "E\n",
      "Neighbor: C\n",
      "C\n",
      "Neighbor: H\n",
      "H\n",
      "Neighbor: E\n",
      "E\n",
      "Neighbor: G\n",
      "G\n",
      "Neighbor: F\n",
      "F\n",
      "Neighbor: C\n",
      "C\n",
      "Neighbor: G\n",
      "G\n",
      "Neighbor: S\n",
      "S\n",
      "Neighbor: F\n",
      "F\n",
      "Neighbor: S\n",
      "S\n",
      "Neighbor: G\n",
      "G\n"
     ]
    },
    {
     "data": {
      "text/plain": [
       "['A', 'B', 'S', 'C', 'D', 'E', 'H', 'G', 'F']"
      ]
     },
     "execution_count": 6,
     "metadata": {},
     "output_type": "execute_result"
    }
   ],
   "source": [
    "dfs(graph1, \"A\")\n"
   ]
  },
  {
   "cell_type": "code",
   "execution_count": 4,
   "metadata": {},
   "outputs": [
    {
     "name": "stdout",
     "output_type": "stream",
     "text": [
      "G\n"
     ]
    },
    {
     "data": {
      "text/plain": [
       "['E', 'C', 'D', 'F', 'G', 'S', 'A', 'B', 'H']"
      ]
     },
     "execution_count": 4,
     "metadata": {},
     "output_type": "execute_result"
    }
   ],
   "source": [
    "\n",
    "dfs(graph1, \"G\")\n",
    "\n"
   ]
  },
  {
   "cell_type": "code",
   "execution_count": null,
   "metadata": {},
   "outputs": [],
   "source": []
  },
  {
   "cell_type": "code",
   "execution_count": null,
   "metadata": {},
   "outputs": [],
   "source": []
  },
  {
   "cell_type": "code",
   "execution_count": null,
   "metadata": {},
   "outputs": [],
   "source": []
  },
  {
   "cell_type": "code",
   "execution_count": null,
   "metadata": {},
   "outputs": [],
   "source": []
  }
 ],
 "metadata": {
  "kernelspec": {
   "display_name": "Python 3",
   "language": "python",
   "name": "python3"
  },
  "language_info": {
   "codemirror_mode": {
    "name": "ipython",
    "version": 3
   },
   "file_extension": ".py",
   "mimetype": "text/x-python",
   "name": "python",
   "nbconvert_exporter": "python",
   "pygments_lexer": "ipython3",
   "version": "3.8.3"
  }
 },
 "nbformat": 4,
 "nbformat_minor": 4
}
