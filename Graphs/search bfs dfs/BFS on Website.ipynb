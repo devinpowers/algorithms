{
 "cells": [
  {
   "cell_type": "markdown",
   "metadata": {},
   "source": [
    "## Queue Class"
   ]
  },
  {
   "cell_type": "code",
   "execution_count": 33,
   "metadata": {},
   "outputs": [],
   "source": [
    "\n",
    "\n",
    "\n",
    "class Queue:\n",
    "\n",
    "    def __init__(self):\n",
    "        self.queue = []\n",
    "        self.size = 0;\n",
    "\n",
    "    def enqueue(self, item):\n",
    "        \"\"\"Add to Queue\"\"\"\n",
    "        self.queue.append(item)\n",
    "        self.size += 1\n",
    "\n",
    "    def dequeue(self):\n",
    "        \"\"\"pop/remove from Queue\"\"\"\n",
    "        if len(self.queue) < 1:\n",
    "            return None\n",
    "        return self.queue.pop(0)\n",
    "        self.size -= 1\n",
    "    \n",
    "        \n",
    "    def is_empty(self):\n",
    "        \"Return True if the queue is empty\"\n",
    "        return self.size == 0\n",
    "    \n"
   ]
  },
  {
   "cell_type": "code",
   "execution_count": 27,
   "metadata": {},
   "outputs": [],
   "source": []
  },
  {
   "cell_type": "code",
   "execution_count": null,
   "metadata": {},
   "outputs": [],
   "source": []
  },
  {
   "cell_type": "code",
   "execution_count": null,
   "metadata": {},
   "outputs": [],
   "source": []
  },
  {
   "cell_type": "code",
   "execution_count": 28,
   "metadata": {},
   "outputs": [],
   "source": []
  },
  {
   "cell_type": "markdown",
   "metadata": {},
   "source": [
    "#### create a graph"
   ]
  },
  {
   "cell_type": "code",
   "execution_count": 35,
   "metadata": {},
   "outputs": [],
   "source": [
    "class Graph:\n",
    "    \n",
    "    def __init__(self, Nodes, is_directed = False):\n",
    "        self.nodes = Nodes\n",
    "        self.adj_list = {}\n",
    "        \n",
    "        self.is_directed = is_directed\n",
    "        \n",
    "        for node in self.nodes:\n",
    "            self.adj_list[node] = []\n",
    "            \n",
    "    def add_edge(self, u, v):\n",
    "        self.adj_list[u].append(v)\n",
    "        \n",
    "        if not self.is_directed:\n",
    "            \n",
    "            self.adj_list[v].append(u)\n",
    "        \n",
    "    \n",
    "    def degree(self,node):\n",
    "        '''Total number of edges coming out a given node'''\n",
    "        deg = len(self.adj_list[node])\n",
    "        return deg\n",
    "    \n",
    "    def print_adj_list(self):\n",
    "        \n",
    "        for node in self.nodes:\n",
    "            print(node, \"->\", self.adj_list[node])\n",
    "    \n",
    "    def __getitem__(self, node):\n",
    "        \n",
    "        \"\"\"retrives items from out Node/vertex\"\"\"\n",
    "        \n",
    "        return  self.adj_list[node]"
   ]
  },
  {
   "cell_type": "markdown",
   "metadata": {},
   "source": [
    "## Create a Graph"
   ]
  },
  {
   "cell_type": "code",
   "execution_count": 36,
   "metadata": {},
   "outputs": [
    {
     "name": "stdout",
     "output_type": "stream",
     "text": [
      "A -> ['B', 'D']\n",
      "B -> ['A', 'F']\n",
      "C -> ['F', 'I']\n",
      "D -> ['A', 'F', 'G']\n",
      "E -> ['F', 'L', 'M', 'H', 'G']\n",
      "F -> ['B', 'D', 'C', 'E']\n",
      "G -> ['H', 'D', 'E']\n",
      "H -> ['E', 'G']\n",
      "I -> ['C', 'L']\n",
      "J -> ['L']\n",
      "K -> ['M']\n",
      "L -> ['I', 'J', 'E']\n",
      "M -> ['E', 'K']\n"
     ]
    }
   ],
   "source": [
    "all_edges = [\n",
    "    \n",
    "    (\"A\",\"B\"),(\"A\",\"D\"),(\"B\",\"F\"),(\"D\",\"F\"),(\"F\",\"C\"),(\"F\",\"E\"), (\"C\",\"I\"), (\"I\",\"L\"),(\"L\",\"J\"),\n",
    "    (\"L\",\"E\"),(\"E\",\"M\"),(\"M\",\"K\"),(\"E\",\"H\"),(\"H\",\"G\"),(\"D\",\"G\"), (\"G\",\"E\")\n",
    "]\n",
    "nodes = [\"A\",\"B\",\"C\",\"D\",\"E\", \"F\",\"G\", \"H\",\"I\", \"J\", \"K\",\"L\",\"M\"]\n",
    "\n",
    "graph1 = Graph(nodes)\n",
    "#graph1.print_adj_list()\n",
    "\n",
    "for u,v in all_edges:\n",
    "    graph1.add_edge(u,v)\n",
    "\n",
    "##graph.add_edge(\"A\",\"B\")\n",
    "graph1.print_adj_list()\n"
   ]
  },
  {
   "cell_type": "code",
   "execution_count": null,
   "metadata": {},
   "outputs": [],
   "source": []
  },
  {
   "cell_type": "code",
   "execution_count": null,
   "metadata": {},
   "outputs": [],
   "source": []
  },
  {
   "cell_type": "markdown",
   "metadata": {},
   "source": [
    "### Breath first Search"
   ]
  },
  {
   "cell_type": "code",
   "execution_count": null,
   "metadata": {},
   "outputs": [],
   "source": []
  },
  {
   "cell_type": "code",
   "execution_count": 38,
   "metadata": {},
   "outputs": [
    {
     "name": "stdout",
     "output_type": "stream",
     "text": [
      "Shallowest Node:  A\n",
      "Shallowest Node:  B\n",
      "Shallowest Node:  D\n",
      "Shallowest Node:  A\n",
      "Shallowest Node:  F\n",
      "Shallowest Node:  A\n",
      "Shallowest Node:  F\n",
      "Shallowest Node:  G\n",
      "Shallowest Node:  B\n",
      "Shallowest Node:  D\n",
      "Shallowest Node:  C\n",
      "Shallowest Node:  E\n",
      "Shallowest Node:  H\n",
      "Shallowest Node:  D\n",
      "Shallowest Node:  E\n",
      "Shallowest Node:  F\n",
      "Shallowest Node:  I\n",
      "Shallowest Node:  F\n",
      "Shallowest Node:  L\n",
      "Shallowest Node:  M\n",
      "Shallowest Node:  H\n",
      "Shallowest Node:  G\n",
      "Shallowest Node:  E\n",
      "Shallowest Node:  G\n",
      "Shallowest Node:  C\n",
      "Shallowest Node:  L\n",
      "Shallowest Node:  I\n",
      "Shallowest Node:  J\n",
      "Shallowest Node:  E\n",
      "Shallowest Node:  E\n",
      "Shallowest Node:  K\n",
      "Shallowest Node:  L\n",
      "Shallowest Node:  M\n",
      "Shallowest Node:  None\n",
      "['A', 'B', 'D', 'F', 'G', 'C', 'E', 'H', 'I', 'L', 'M', 'J', 'K']\n"
     ]
    }
   ],
   "source": [
    "def bfs(graph, start):\n",
    "    # keep track of all visited nodes\n",
    "    visited = []\n",
    "    # keep track of nodes to be checked\n",
    "    queue = Queue()\n",
    "    queue.enqueue(start)\n",
    " \n",
    "    # keep looping until there are nodes still to be checked\n",
    "    while not queue.is_empty():\n",
    "    \n",
    "    \n",
    "        # pop shallowest node (first node) from queue\n",
    "        node = queue.dequeue()\n",
    "        \n",
    "        print(\"Shallowest Node: \", node)\n",
    "        if node is None:\n",
    "            break\n",
    "        if node not in visited:\n",
    "            # add node to list of checked nodes\n",
    "            visited.append(node)\n",
    "            neighbours = graph[node]\n",
    " \n",
    "            for neighbour in neighbours:\n",
    "                queue.enqueue(neighbour)\n",
    "    return visited\n",
    " \n",
    "print(bfs(graph1,'A') )\n",
    "\n",
    "\n"
   ]
  },
  {
   "cell_type": "code",
   "execution_count": null,
   "metadata": {},
   "outputs": [],
   "source": []
  },
  {
   "cell_type": "code",
   "execution_count": null,
   "metadata": {},
   "outputs": [],
   "source": []
  },
  {
   "cell_type": "code",
   "execution_count": null,
   "metadata": {},
   "outputs": [],
   "source": []
  },
  {
   "cell_type": "code",
   "execution_count": null,
   "metadata": {},
   "outputs": [],
   "source": []
  },
  {
   "cell_type": "code",
   "execution_count": null,
   "metadata": {},
   "outputs": [],
   "source": []
  },
  {
   "cell_type": "code",
   "execution_count": null,
   "metadata": {},
   "outputs": [],
   "source": []
  },
  {
   "cell_type": "code",
   "execution_count": null,
   "metadata": {},
   "outputs": [],
   "source": []
  }
 ],
 "metadata": {
  "kernelspec": {
   "display_name": "Python 3",
   "language": "python",
   "name": "python3"
  },
  "language_info": {
   "codemirror_mode": {
    "name": "ipython",
    "version": 3
   },
   "file_extension": ".py",
   "mimetype": "text/x-python",
   "name": "python",
   "nbconvert_exporter": "python",
   "pygments_lexer": "ipython3",
   "version": "3.8.3"
  }
 },
 "nbformat": 4,
 "nbformat_minor": 4
}
