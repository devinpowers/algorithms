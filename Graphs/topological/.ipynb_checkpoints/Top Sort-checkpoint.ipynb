{
 "cells": [
  {
   "cell_type": "code",
   "execution_count": null,
   "metadata": {},
   "outputs": [],
   "source": []
  },
  {
   "cell_type": "code",
   "execution_count": null,
   "metadata": {},
   "outputs": [],
   "source": []
  },
  {
   "cell_type": "markdown",
   "metadata": {},
   "source": [
    "## Graph Class"
   ]
  },
  {
   "cell_type": "code",
   "execution_count": 19,
   "metadata": {},
   "outputs": [],
   "source": [
    "class Graph:\n",
    "    \n",
    "    def __init__(self, Nodes, is_directed = False):\n",
    "        self.nodes = Nodes\n",
    "        self.adj_list = {}\n",
    "        \n",
    "        self.is_directed = is_directed\n",
    "        \n",
    "        for node in self.nodes:\n",
    "            self.adj_list[node] = []\n",
    "            \n",
    "    def add_edge(self, u, v):\n",
    "        self.adj_list[u].append(v)\n",
    "        \n",
    "        if not self.is_directed:\n",
    "            \n",
    "            self.adj_list[v].append(u)\n",
    "        \n",
    "    \n",
    "    def degree(self,node):\n",
    "        '''Total number of edges coming out a given node'''\n",
    "        deg = len(self.adj_list[node])\n",
    "        return deg\n",
    "    \n",
    "    def print_adj_list(self):\n",
    "        \n",
    "        for node in self.nodes:\n",
    "            print(node, \"->\", self.adj_list[node])\n",
    "            \n",
    "    def __len__(self):\n",
    "        return len(self.nodes)\n",
    "    \n",
    "    def __getitem__(self, node):\n",
    "        \n",
    "        \"\"\"retrives items from out Node/vertex\"\"\"\n",
    "        \n",
    "        return  self.adj_list[node]\n",
    "            \n"
   ]
  },
  {
   "cell_type": "markdown",
   "metadata": {},
   "source": [
    "## add edges and Vertex/nodes to a Graph Object"
   ]
  },
  {
   "cell_type": "code",
   "execution_count": 20,
   "metadata": {},
   "outputs": [
    {
     "name": "stdout",
     "output_type": "stream",
     "text": [
      "A -> ['D']\n",
      "B -> ['D']\n",
      "C -> ['B', 'A']\n",
      "D -> ['H', 'G']\n",
      "E -> ['A', 'D', 'F']\n",
      "F -> ['K', 'J']\n",
      "G -> ['I']\n",
      "H -> ['J', 'I']\n",
      "I -> ['L']\n",
      "J -> ['M', 'L']\n",
      "K -> ['J']\n",
      "L -> []\n",
      "M -> []\n"
     ]
    }
   ],
   "source": [
    "\n",
    "all_edges = [\n",
    "    \n",
    "    (\"A\",\"D\"),(\"B\",\"D\"),(\"C\",\"B\"),(\"C\",\"A\"),(\"E\",\"A\"),(\"E\",\"D\"),\n",
    "    (\"E\",\"F\"),(\"D\",\"H\"),(\"D\",\"G\"),(\"F\",\"K\"),(\"F\",\"J\"),(\"H\",\"J\"),\n",
    "    (\"H\",\"I\"),(\"G\",\"I\"),(\"K\",\"J\"),(\"J\",\"M\"),(\"J\",\"L\"),(\"I\",\"L\")\n",
    "\n",
    "]\n",
    "nodes = [\"A\",\"B\",\"C\",\"D\",\"E\",\"F\",\"G\",\"H\",\"I\",\"J\",\"K\",\"L\",\"M\"]\n",
    "\n",
    "graph1 = Graph(nodes, is_directed = True)\n",
    "#graph1.print_adj_list()\n",
    "\n",
    "for u,v in all_edges:\n",
    "    graph1.add_edge(u,v)\n",
    "\n",
    "##graph.add_edge(\"A\",\"B\")\n",
    "graph1.print_adj_list()\n"
   ]
  },
  {
   "cell_type": "code",
   "execution_count": null,
   "metadata": {},
   "outputs": [],
   "source": []
  },
  {
   "cell_type": "markdown",
   "metadata": {},
   "source": [
    "# Another Graph3"
   ]
  },
  {
   "cell_type": "code",
   "execution_count": 81,
   "metadata": {},
   "outputs": [
    {
     "name": "stdout",
     "output_type": "stream",
     "text": [
      "A -> ['D', 'B']\n",
      "B -> ['E']\n",
      "C -> ['F']\n",
      "D -> ['E', 'F']\n",
      "E -> ['H', 'G']\n",
      "F -> ['G', 'I']\n",
      "G -> ['J']\n",
      "H -> []\n",
      "I -> []\n",
      "J -> []\n",
      "K -> []\n"
     ]
    }
   ],
   "source": [
    "all_edges = [\n",
    "    \n",
    "    (\"A\",\"D\"),(\"A\",\"B\"),(\"B\",\"E\"),(\"D\",\"E\"),(\"D\",\"F\"),(\"E\",\"H\"),\n",
    "    (\"E\",\"G\"),(\"C\",\"F\"),(\"F\",\"G\"),(\"F\",\"I\"),(\"G\",\"J\")\n",
    "\n",
    "]\n",
    "nodes = [\"A\",\"B\",\"C\",\"D\",\"E\",\"F\",\"G\",\"H\",\"I\",\"J\",\"K\"]\n",
    "\n",
    "graph3 = Graph(nodes,is_directed = True)\n",
    "\n",
    "for u,v in all_edges:\n",
    "    graph3.add_edge(u,v)\n",
    "\n",
    "##graph.add_edge(\"A\",\"B\")\n",
    "graph3.print_adj_list()\n"
   ]
  },
  {
   "cell_type": "code",
   "execution_count": null,
   "metadata": {},
   "outputs": [],
   "source": []
  },
  {
   "cell_type": "code",
   "execution_count": null,
   "metadata": {},
   "outputs": [],
   "source": [
    "### Graph 2"
   ]
  },
  {
   "cell_type": "code",
   "execution_count": 62,
   "metadata": {},
   "outputs": [
    {
     "name": "stdout",
     "output_type": "stream",
     "text": [
      "A -> ['C', 'D']\n",
      "B -> ['E']\n",
      "C -> ['B']\n",
      "D -> ['F']\n",
      "E -> []\n",
      "F -> ['E']\n"
     ]
    }
   ],
   "source": [
    "all_edges = [\n",
    "    \n",
    "    (\"A\",\"C\"),(\"A\",\"D\"),(\"C\",\"B\"),(\"B\",\"E\"),(\"D\",\"F\"),(\"F\",\"E\"),\n",
    "    \n",
    "]\n",
    "nodes = [\"A\",\"B\",\"C\",\"D\",\"E\",\"F\"]\n",
    "\n",
    "graph2 = Graph(nodes, is_directed = True)\n",
    "#graph1.print_adj_list()\n",
    "\n",
    "for u,v in all_edges:\n",
    "    graph2.add_edge(u,v)\n",
    "\n",
    "graph2.print_adj_list()\n"
   ]
  },
  {
   "cell_type": "code",
   "execution_count": null,
   "metadata": {},
   "outputs": [],
   "source": []
  },
  {
   "cell_type": "code",
   "execution_count": null,
   "metadata": {},
   "outputs": [],
   "source": []
  },
  {
   "cell_type": "markdown",
   "metadata": {},
   "source": [
    "### Top Sort"
   ]
  },
  {
   "cell_type": "code",
   "execution_count": 10,
   "metadata": {},
   "outputs": [],
   "source": []
  },
  {
   "cell_type": "code",
   "execution_count": 21,
   "metadata": {},
   "outputs": [
    {
     "data": {
      "text/plain": [
       "['A', 'D', 'H', 'J', 'M', 'L', 'I', 'G']"
      ]
     },
     "execution_count": 21,
     "metadata": {},
     "output_type": "execute_result"
    }
   ],
   "source": [
    "visited = []\n",
    "\n",
    "def DFS(graph, node):\n",
    "    \n",
    "    if node not in visited:\n",
    "        \n",
    "        visited.append(node)\n",
    "        \n",
    "        for neighbor in graph[node]:\n",
    "            \n",
    "            DFS(graph,neighbor)\n",
    "            \n",
    "    return visited\n",
    "\n",
    "\n",
    "DFS(graph1, \"A\")"
   ]
  },
  {
   "cell_type": "code",
   "execution_count": null,
   "metadata": {},
   "outputs": [],
   "source": []
  },
  {
   "cell_type": "code",
   "execution_count": 28,
   "metadata": {},
   "outputs": [],
   "source": [
    "def recursive_dfs(graph, node):\n",
    "    result = []\n",
    "    seen = set()\n",
    "\n",
    "    def recursive_helper(node):\n",
    "        for neighbor in graph[node]:\n",
    "            if neighbor not in seen:\n",
    "                result.append(neighbor)     # this line will be replaced below\n",
    "                seen.add(neighbor)\n",
    "                recursive_helper(neighbor)\n",
    "\n",
    "    recursive_helper(node)\n",
    "    return result\n",
    "\n",
    "def recursive_topological_sort(graph, node):\n",
    "    result = []\n",
    "    seen = set()\n",
    "\n",
    "    def recursive_helper(node):\n",
    "        for neighbor in graph[node]:\n",
    "            if neighbor not in seen:\n",
    "                seen.add(neighbor)\n",
    "                recursive_helper(neighbor)\n",
    "        result.insert(0, node)              # this line replaces the result.append line\n",
    "\n",
    "    recursive_helper(node)\n",
    "    return result"
   ]
  },
  {
   "cell_type": "code",
   "execution_count": 30,
   "metadata": {},
   "outputs": [
    {
     "data": {
      "text/plain": [
       "['D', 'H', 'J', 'M', 'L', 'I', 'G']"
      ]
     },
     "execution_count": 30,
     "metadata": {},
     "output_type": "execute_result"
    }
   ],
   "source": [
    "recursive_dfs(graph1, \"A\")"
   ]
  },
  {
   "cell_type": "code",
   "execution_count": 40,
   "metadata": {},
   "outputs": [
    {
     "data": {
      "text/plain": [
       "['E', 'F', 'K', 'A', 'D', 'G', 'H', 'I', 'J', 'L', 'M']"
      ]
     },
     "execution_count": 40,
     "metadata": {},
     "output_type": "execute_result"
    }
   ],
   "source": [
    "recursive_topological_sort(graph1, \"E\")"
   ]
  },
  {
   "cell_type": "code",
   "execution_count": null,
   "metadata": {},
   "outputs": [],
   "source": []
  },
  {
   "cell_type": "code",
   "execution_count": 64,
   "metadata": {},
   "outputs": [
    {
     "data": {
      "text/plain": [
       "['A', 'D', 'F', 'C', 'B', 'E']"
      ]
     },
     "execution_count": 64,
     "metadata": {},
     "output_type": "execute_result"
    }
   ],
   "source": [
    "recursive_topological_sort(graph2, \"A\")"
   ]
  },
  {
   "cell_type": "code",
   "execution_count": null,
   "metadata": {},
   "outputs": [],
   "source": []
  },
  {
   "cell_type": "code",
   "execution_count": null,
   "metadata": {},
   "outputs": [],
   "source": []
  },
  {
   "cell_type": "code",
   "execution_count": 41,
   "metadata": {},
   "outputs": [],
   "source": [
    "def iterative_topological_sort(graph, start,path=set()):\n",
    "    q = [start]\n",
    "    ans = []\n",
    "    while q:\n",
    "        v = q[-1]                   #item 1,just access, don't pop\n",
    "        path = path.union({v})  \n",
    "        children = [x for x in graph[v] if x not in path]    \n",
    "        if not children:              #no child or all of them already visited\n",
    "            ans = [v]+ans \n",
    "            q.pop()\n",
    "        else: q.append(children[0])   #item 2, push just one child\n",
    "\n",
    "    return ans"
   ]
  },
  {
   "cell_type": "code",
   "execution_count": null,
   "metadata": {},
   "outputs": [],
   "source": []
  },
  {
   "cell_type": "code",
   "execution_count": 59,
   "metadata": {},
   "outputs": [
    {
     "data": {
      "text/plain": [
       "['A', 'D', 'F', 'E', 'C']"
      ]
     },
     "execution_count": 59,
     "metadata": {},
     "output_type": "execute_result"
    }
   ],
   "source": [
    "iterative_topological_sort(graph2, \"A\")"
   ]
  },
  {
   "cell_type": "code",
   "execution_count": null,
   "metadata": {},
   "outputs": [],
   "source": []
  },
  {
   "cell_type": "code",
   "execution_count": null,
   "metadata": {},
   "outputs": [],
   "source": []
  },
  {
   "cell_type": "markdown",
   "metadata": {},
   "source": [
    "#### Extras"
   ]
  },
  {
   "cell_type": "code",
   "execution_count": null,
   "metadata": {},
   "outputs": [],
   "source": []
  },
  {
   "cell_type": "code",
   "execution_count": 66,
   "metadata": {},
   "outputs": [],
   "source": [
    "graph3 = {\n",
    "\"A\": ['D'],\n",
    "\"B\": ['D'],\n",
    "\"C\": ['B', 'A'],\n",
    "\"D\": ['H', 'G'],\n",
    "\"E\": ['A', 'D', 'F'],\n",
    "\"F\": ['K', 'J'],\n",
    "\"G\": ['I'],\n",
    "\"H\": ['J', 'I'],\n",
    "\"I\": ['L'],\n",
    "\"J\": ['M', 'L'],\n",
    "\"J\" ['J']\n",
    "L -> []\n",
    "M -> []\n",
    "}"
   ]
  },
  {
   "cell_type": "code",
   "execution_count": 82,
   "metadata": {},
   "outputs": [],
   "source": [
    "def recursive_topological_sort(graph, node):\n",
    "    result = []\n",
    "    seen = set()\n",
    "\n",
    "    def recursive_helper(node):\n",
    "        for neighbor in graph[node]:\n",
    "            if neighbor not in seen:\n",
    "                seen.add(neighbor)\n",
    "                recursive_helper(neighbor)\n",
    "        result.insert(0, node)              # this line replaces the result.append line\n",
    "\n",
    "    recursive_helper(node)\n",
    "    return result"
   ]
  },
  {
   "cell_type": "code",
   "execution_count": 86,
   "metadata": {},
   "outputs": [
    {
     "data": {
      "text/plain": [
       "['D', 'F', 'I', 'E', 'G', 'J', 'H']"
      ]
     },
     "execution_count": 86,
     "metadata": {},
     "output_type": "execute_result"
    }
   ],
   "source": [
    "recursive_topological_sort(graph3, \"D\")"
   ]
  },
  {
   "cell_type": "code",
   "execution_count": null,
   "metadata": {},
   "outputs": [],
   "source": []
  },
  {
   "cell_type": "code",
   "execution_count": null,
   "metadata": {},
   "outputs": [],
   "source": []
  },
  {
   "cell_type": "code",
   "execution_count": null,
   "metadata": {},
   "outputs": [],
   "source": []
  },
  {
   "cell_type": "code",
   "execution_count": null,
   "metadata": {},
   "outputs": [],
   "source": []
  },
  {
   "cell_type": "code",
   "execution_count": null,
   "metadata": {},
   "outputs": [],
   "source": []
  },
  {
   "cell_type": "code",
   "execution_count": null,
   "metadata": {},
   "outputs": [],
   "source": []
  }
 ],
 "metadata": {
  "kernelspec": {
   "display_name": "Python 3",
   "language": "python",
   "name": "python3"
  },
  "language_info": {
   "codemirror_mode": {
    "name": "ipython",
    "version": 3
   },
   "file_extension": ".py",
   "mimetype": "text/x-python",
   "name": "python",
   "nbconvert_exporter": "python",
   "pygments_lexer": "ipython3",
   "version": "3.8.3"
  }
 },
 "nbformat": 4,
 "nbformat_minor": 4
}
