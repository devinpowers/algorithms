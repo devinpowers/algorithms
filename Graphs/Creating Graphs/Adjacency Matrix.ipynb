{
 "cells": [
  {
   "cell_type": "markdown",
   "metadata": {},
   "source": [
    "# Adjacency Matrix in Python"
   ]
  },
  {
   "cell_type": "markdown",
   "metadata": {},
   "source": [
    "### Practice creating a Matrix"
   ]
  },
  {
   "cell_type": "code",
   "execution_count": 6,
   "metadata": {},
   "outputs": [
    {
     "name": "stdout",
     "output_type": "stream",
     "text": [
      "[0, 0, 0, 0]\n",
      "[0, 0, 0, 0]\n",
      "[0, 0, 0, 0]\n",
      "[0, 0, 0, 0]\n"
     ]
    }
   ],
   "source": [
    "\n",
    "matrix_size = 4 # Size of the Matrix eg: 4x4, 3x3, ....\n",
    "Matrix = []\n",
    "\n",
    "\"\"\" Matrix Construction:\"\"\"\n",
    "for i in range(matrix_size):\n",
    "    \n",
    "    Matrix.append([0 for i in  range(matrix_size)])\n",
    "    \n",
    "    \n",
    "\"\"\"Print our Matrix out\"\"\"\n",
    "\n",
    "def print_matrix(matrix):\n",
    "\n",
    "    \n",
    "    for row in matrix:\n",
    "        print(row)\n",
    "\n",
    "print_matrix(Matrix)\n",
    "\n",
    "\n"
   ]
  },
  {
   "cell_type": "code",
   "execution_count": null,
   "metadata": {},
   "outputs": [],
   "source": []
  },
  {
   "cell_type": "code",
   "execution_count": 82,
   "metadata": {},
   "outputs": [],
   "source": [
    "class Graph():\n",
    "    \n",
    "    def __init__(self, matrix_size):\n",
    "        self.matrix = []\n",
    "        self.matrix_size = matrix_size\n",
    "        \n",
    "        # add to our matrix using the size passed in\n",
    "        \n",
    "        for i in range(matrix_size):\n",
    "            self.matrix.append([0 for i in  range(matrix_size)])\n",
    "    \n",
    "    def print_matrix(self):\n",
    "        \"\"\"Prints our matrix out\"\"\"\n",
    "        \n",
    "        for row in self.matrix:\n",
    "            print(row)\n",
    "    \n",
    "    def size(self):\n",
    "        \"\"\"Returns Size of the Matrix\"\"\"\n",
    "        return self.matrix_size\n",
    "    \n",
    "    def add_edge(self, vertex_1, vertex_2):\n",
    "        \n",
    "        if vertex_1 == vertex_2:\n",
    "            print(\"Same vertex passed in!\")\n",
    "            return\n",
    "        \n",
    "        self.matrix[vertex_1][vertex_2] = 1\n",
    "        self.matrix[vertex_2][vertex_1] = 1\n",
    "\n",
    "    \n",
    "    def remove_edge(self, vertex_1, vertex_2):\n",
    "        \n",
    "        if self.matrix[vertex_1][vertex_2] == 0:\n",
    "            print(\"No edge exisited between the 2\")\n",
    "            return\n",
    "        \n",
    "        self.matrix[vertex_1][vertex_2] = 0\n",
    "        self.matrix[vertex_2][vertex_1] = 0\n",
    "\n",
    "        \n",
    "        \n",
    "\n",
    "        "
   ]
  },
  {
   "cell_type": "code",
   "execution_count": 83,
   "metadata": {},
   "outputs": [],
   "source": [
    "## Testing with a 3x3 Matrix"
   ]
  },
  {
   "cell_type": "code",
   "execution_count": 84,
   "metadata": {},
   "outputs": [],
   "source": [
    "g = Graph(5) "
   ]
  },
  {
   "cell_type": "code",
   "execution_count": 85,
   "metadata": {},
   "outputs": [
    {
     "name": "stdout",
     "output_type": "stream",
     "text": [
      "[0, 0, 0, 0, 0]\n",
      "[0, 0, 0, 0, 0]\n",
      "[0, 0, 0, 0, 0]\n",
      "[0, 0, 0, 0, 0]\n",
      "[0, 0, 0, 0, 0]\n"
     ]
    }
   ],
   "source": [
    "g.print_matrix()"
   ]
  },
  {
   "cell_type": "code",
   "execution_count": 86,
   "metadata": {},
   "outputs": [
    {
     "data": {
      "text/plain": [
       "5"
      ]
     },
     "execution_count": 86,
     "metadata": {},
     "output_type": "execute_result"
    }
   ],
   "source": [
    "g.size()\n"
   ]
  },
  {
   "cell_type": "code",
   "execution_count": 87,
   "metadata": {},
   "outputs": [],
   "source": [
    "g.add_edge(1,2)"
   ]
  },
  {
   "cell_type": "code",
   "execution_count": 88,
   "metadata": {},
   "outputs": [],
   "source": [
    "g.add_edge(0, 2)\n",
    "g.add_edge(1, 2)\n",
    "g.add_edge(2, 0)\n",
    "g.add_edge(2, 3)"
   ]
  },
  {
   "cell_type": "code",
   "execution_count": 89,
   "metadata": {},
   "outputs": [
    {
     "name": "stdout",
     "output_type": "stream",
     "text": [
      "[0, 0, 1, 0, 0]\n",
      "[0, 0, 1, 0, 0]\n",
      "[1, 1, 0, 1, 0]\n",
      "[0, 0, 1, 0, 0]\n",
      "[0, 0, 0, 0, 0]\n"
     ]
    }
   ],
   "source": [
    "g.print_matrix()"
   ]
  },
  {
   "cell_type": "code",
   "execution_count": 90,
   "metadata": {},
   "outputs": [
    {
     "name": "stdout",
     "output_type": "stream",
     "text": [
      "No edge exisited between the 2\n"
     ]
    }
   ],
   "source": [
    "g.remove_edge(0,3)"
   ]
  },
  {
   "cell_type": "code",
   "execution_count": 91,
   "metadata": {},
   "outputs": [
    {
     "name": "stdout",
     "output_type": "stream",
     "text": [
      "[0, 0, 0, 0, 0]\n",
      "[0, 0, 1, 0, 0]\n",
      "[0, 1, 0, 1, 0]\n",
      "[0, 0, 1, 0, 0]\n",
      "[0, 0, 0, 0, 0]\n"
     ]
    }
   ],
   "source": [
    "g.remove_edge(0,2)\n",
    "g.print_matrix()"
   ]
  },
  {
   "cell_type": "code",
   "execution_count": null,
   "metadata": {},
   "outputs": [],
   "source": []
  }
 ],
 "metadata": {
  "kernelspec": {
   "display_name": "Python 3",
   "language": "python",
   "name": "python3"
  },
  "language_info": {
   "codemirror_mode": {
    "name": "ipython",
    "version": 3
   },
   "file_extension": ".py",
   "mimetype": "text/x-python",
   "name": "python",
   "nbconvert_exporter": "python",
   "pygments_lexer": "ipython3",
   "version": "3.8.3"
  }
 },
 "nbformat": 4,
 "nbformat_minor": 4
}
