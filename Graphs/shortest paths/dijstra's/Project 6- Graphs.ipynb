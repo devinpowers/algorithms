{
 "cells": [
  {
   "cell_type": "code",
   "execution_count": null,
   "metadata": {},
   "outputs": [],
   "source": []
  },
  {
   "cell_type": "code",
   "execution_count": 167,
   "metadata": {},
   "outputs": [],
   "source": [
    "import math\n",
    "from operator import itemgetter\n",
    "\n",
    "class Graph:\n",
    "    def __init__(self, n):\n",
    "        \"\"\"\n",
    "        Constructor\n",
    "        :param n: Number of vertices\n",
    "        \"\"\"\n",
    "        self.nodes = n\n",
    "        \n",
    "        self.size = 0\n",
    "\n",
    "        self.graph = {}\n",
    "        \n",
    "        #inner Dictionary\n",
    "        for node in self.nodes:\n",
    "            self.graph[node] = {}\n",
    "    \n",
    "    def print_nodes(self):\n",
    "        return self.nodes\n",
    "    \n",
    "    def insert_edge(self, u, v, w):\n",
    "        #first check if vertex is already in the Graph\n",
    "        # funciton creates a new edge\n",
    "        ## non-directed graph\n",
    "        self.graph[u][v] = w\n",
    "        \n",
    "        self.graph[v][u] = w\n",
    "        \n",
    "        #increase size of graph\n",
    "        self.size += 1 \n",
    "    \n",
    "    def _print(self):\n",
    "        \n",
    "        for node in self.nodes:\n",
    "            print(node, \"->\", self.graph[node])\n",
    "\n",
    "    def degree(self, v):\n",
    "        \n",
    "        '''number of edges connected to a vertex'''\n",
    "        \n",
    "        if v not in self.nodes:\n",
    "            \n",
    "            print(\"Dude this Vertex is not in the Graph!!!\")\n",
    "            \n",
    "            raise IndexError \n",
    "    \n",
    "        return len(self.graph[v])\n",
    "        \n",
    "         \n",
    "\n",
    "    def are_connected(self, u, v):\n",
    "        '''See if two vertices are connected!'''\n",
    "        '''Return Boolean (True or False)'''\n",
    "        \n",
    "        if u not in self.nodes or v not in self.nodes:\n",
    "            print(\"The Vertex, Edge, or both are not in Graph\")\n",
    "        \n",
    "            raise IndexError\n",
    "        \n",
    "        return v in self.graph[u]\n",
    "    \n",
    "    \n",
    "    def is_path_valid(self, path):\n",
    "        \n",
    "        '''is path valid'''\n",
    "        '''Pass in a list of vertices in the order of the path'''\n",
    "        \n",
    "        for i in range(len(path) - 1):\n",
    "            # if not connected, then it's not a path and we can return False\n",
    "            \n",
    "            print(path[i])\n",
    "            \n",
    "            if not self.are_connected(path[i], path[i+1]):\n",
    "                return False\n",
    "        \n",
    "        return True\n",
    "        \n",
    "    def edge_weight(self, u, v):\n",
    "        \n",
    "        '''Returns the weight between vertices'''\n",
    "        # Check if vertices exists\n",
    "        if u not in self.nodes or v not in self.nodes:\n",
    "            raise IndexError\n",
    "        # ok they exist, so lets see if they're connected\n",
    "        if v in self.graph[u]:\n",
    "            \n",
    "            return self.graph[u][v]\n",
    "        \n",
    "        else:\n",
    "            return math.inf\n",
    "        \n",
    "        \n",
    "        return math.inf\n",
    "\n",
    "    def path_weight(self, path):\n",
    "        '''get the total weight of a path'''\n",
    "        '''Return weight of a Path'''\n",
    "        weight = 0\n",
    "        \n",
    "        for i in range(len(path) - 1 ):\n",
    "            weight += self.edge_weight(path[i], path[i+1])\n",
    "            \n",
    "        return weight\n",
    "    \n",
    "    def does_path_exist(self, u, v):\n",
    "        \n",
    "\n",
    "        # Vertex not in graph\n",
    "        if u not in self.nodes or v not in self.nodes:\n",
    "            raise IndexError\n",
    "        \n",
    "        #Create a Queue\n",
    "        queue = []        \n",
    "        # Keep track of which vertices we've visited\n",
    "\n",
    "        visited = []\n",
    "        visited.append(u)\n",
    "        queue.append(u)\n",
    "    \n",
    "        # while Queue isnt empty\n",
    "        while queue:\n",
    "            \n",
    "            vertex = queue.pop(0)\n",
    "                        \n",
    "            # Found path is found\n",
    "            if vertex == v:\n",
    "                return True\n",
    "            \n",
    "            for neighbour in self.graph[vertex]:\n",
    "                if neighbour not in visited:\n",
    "            \n",
    "                    queue.append(neighbour)                      # if neighbour node hasnt been visited we will add to the Queue \n",
    "                    visited.append(neighbour)                # and add it to the list of visited nodes\n",
    "        \n",
    "              #  else:\n",
    "                 #   print(\"Already Visited that node!\")       # if the neighbour is already in our visited list we alread visited it!!\n",
    "        \n",
    "        #if path doesnt exist\n",
    "        return False\n",
    "\n",
    "    def find_min_weight_path(self, u, v):\n",
    "        \"\"\"\n",
    "        Find minimum weight path if exists\n",
    "\n",
    "        \"\"\"\n",
    "        dist = {node: float('infinity') for node in self.graph }  # distance {\"A\": 'infinty', \"B\": 'infinity',....}\n",
    "        prior = {}                              \n",
    "        \n",
    "        nodes = set(i for i in self.nodes)      # nodes {\"A\",\"B\",\"C\",....}\n",
    "       \n",
    "        dist[u] = 0      #set distance of starting node to 0\n",
    "        prior[u] = u\n",
    "        visited = set()\n",
    "    \n",
    "        # While haven't visited every node in our nodes\n",
    "        \n",
    "        while visited != nodes:\n",
    "            others = []\n",
    "            # Keep track of possible paths\n",
    "            for other in nodes - visited:\n",
    "                others.append((other, dist[other]))\n",
    "            x = sorted(others, key=itemgetter(1))[0][0]\n",
    "            for y, dis in self.graph[x].items():\n",
    "                # Update distances and priors for the vertices\n",
    "                if dist[x] + dis < dist[y]:\n",
    "                    dist[y] = dist[x] + dis\n",
    "                    prior[y] = x\n",
    "            # Update visited\n",
    "            visited.add(x)\n",
    "        # Raise ValueError if no path exists\n",
    "        if v not in prior:\n",
    "            raise ValueError\n",
    "\n",
    "        # Create return list of minimum weight path\n",
    "        path = []\n",
    "        node = v\n",
    "        while node != u:\n",
    "            path.append(node)\n",
    "            node = prior[node]\n",
    "        path.append(u)\n",
    "        path.reverse()\n",
    "        return path\n",
    "\n",
    "\n",
    "  \n",
    "\n",
    "    def is_bipartite(self):\n",
    "        pass\n",
    "        \n",
    "       \n"
   ]
  },
  {
   "cell_type": "markdown",
   "metadata": {},
   "source": [
    "### Lets at our Vertexs and Edges with Weights!!!"
   ]
  },
  {
   "cell_type": "code",
   "execution_count": 168,
   "metadata": {},
   "outputs": [],
   "source": [
    "all_edges = [\n",
    "\n",
    "    (\"A\",\"B\", 3),(\"A\",\"C\", 4),(\"A\",\"D\", 7),(\"C\",\"D\", 2),\n",
    "    (\"C\",\"B\", 1),(\"C\",\"F\",6),(\"B\",\"F\", 5),(\"F\",\"E\", 1),\n",
    "    (\"D\",\"E\", 3),(\"E\",\"G\", 3),(\"E\",\"H\", 4),(\"F\",\"H\", 8),\n",
    "    (\"D\",\"G\", 6),(\"E\",\"F\", 1),(\"G\",\"H\", 2)\n",
    "]\n",
    "nodes = [\"A\",\"B\",\"C\",\"D\",\"E\",\"F\",\"G\",\"H\"]\n"
   ]
  },
  {
   "cell_type": "code",
   "execution_count": 169,
   "metadata": {},
   "outputs": [],
   "source": [
    "g = Graph(nodes)\n",
    "for u,v,w in all_edges:\n",
    "    g.insert_edge(u,v,w)"
   ]
  },
  {
   "cell_type": "code",
   "execution_count": null,
   "metadata": {},
   "outputs": [],
   "source": []
  },
  {
   "cell_type": "markdown",
   "metadata": {},
   "source": [
    "### insert the Edges with their Corresponding weights into the Graph"
   ]
  },
  {
   "cell_type": "code",
   "execution_count": null,
   "metadata": {},
   "outputs": [],
   "source": []
  },
  {
   "cell_type": "markdown",
   "metadata": {},
   "source": [
    "### Lets print our Graph!"
   ]
  },
  {
   "cell_type": "code",
   "execution_count": 153,
   "metadata": {},
   "outputs": [
    {
     "name": "stdout",
     "output_type": "stream",
     "text": [
      "A -> {'B': 3, 'C': 4, 'D': 7}\n",
      "B -> {'A': 3, 'C': 1, 'F': 5}\n",
      "C -> {'A': 4, 'D': 2, 'B': 1, 'F': 6}\n",
      "D -> {'A': 7, 'C': 2, 'E': 3, 'G': 6}\n",
      "E -> {'F': 1, 'D': 3, 'G': 3, 'H': 4}\n",
      "F -> {'C': 6, 'B': 5, 'E': 1, 'H': 8}\n",
      "G -> {'E': 3, 'D': 6, 'H': 2}\n",
      "H -> {'E': 4, 'F': 8, 'G': 2}\n"
     ]
    }
   ],
   "source": [
    "g._print()"
   ]
  },
  {
   "cell_type": "code",
   "execution_count": 49,
   "metadata": {},
   "outputs": [],
   "source": [
    "### Let's try degree function"
   ]
  },
  {
   "cell_type": "code",
   "execution_count": 50,
   "metadata": {},
   "outputs": [
    {
     "data": {
      "text/plain": [
       "3"
      ]
     },
     "execution_count": 50,
     "metadata": {},
     "output_type": "execute_result"
    }
   ],
   "source": [
    "g.degree(\"A\")"
   ]
  },
  {
   "cell_type": "code",
   "execution_count": 27,
   "metadata": {},
   "outputs": [
    {
     "data": {
      "text/plain": [
       "4"
      ]
     },
     "execution_count": 27,
     "metadata": {},
     "output_type": "execute_result"
    }
   ],
   "source": [
    "g.degree(\"C\")"
   ]
  },
  {
   "cell_type": "markdown",
   "metadata": {},
   "source": [
    "### Testing are_connected function"
   ]
  },
  {
   "cell_type": "code",
   "execution_count": 28,
   "metadata": {},
   "outputs": [
    {
     "data": {
      "text/plain": [
       "True"
      ]
     },
     "execution_count": 28,
     "metadata": {},
     "output_type": "execute_result"
    }
   ],
   "source": [
    "g.are_connected(\"A\",\"B\")"
   ]
  },
  {
   "cell_type": "code",
   "execution_count": 29,
   "metadata": {},
   "outputs": [
    {
     "data": {
      "text/plain": [
       "False"
      ]
     },
     "execution_count": 29,
     "metadata": {},
     "output_type": "execute_result"
    }
   ],
   "source": [
    "g.are_connected(\"A\",\"E\")"
   ]
  },
  {
   "cell_type": "markdown",
   "metadata": {},
   "source": [
    "## is_path_valid() method"
   ]
  },
  {
   "cell_type": "code",
   "execution_count": 96,
   "metadata": {},
   "outputs": [],
   "source": [
    "path = [\"A\",\"B\",\"C\",\"D\",\"G\",\"H\"]"
   ]
  },
  {
   "cell_type": "code",
   "execution_count": 97,
   "metadata": {},
   "outputs": [],
   "source": [
    "path2 = [\"A\",\"B\",\"C\",\"E\"]"
   ]
  },
  {
   "cell_type": "code",
   "execution_count": 98,
   "metadata": {},
   "outputs": [
    {
     "name": "stdout",
     "output_type": "stream",
     "text": [
      "A\n",
      "B\n",
      "C\n",
      "D\n",
      "G\n"
     ]
    },
    {
     "data": {
      "text/plain": [
       "True"
      ]
     },
     "execution_count": 98,
     "metadata": {},
     "output_type": "execute_result"
    }
   ],
   "source": [
    "g.is_path_valid(path)"
   ]
  },
  {
   "cell_type": "code",
   "execution_count": 54,
   "metadata": {},
   "outputs": [
    {
     "name": "stdout",
     "output_type": "stream",
     "text": [
      "A\n",
      "B\n",
      "C\n"
     ]
    },
    {
     "data": {
      "text/plain": [
       "False"
      ]
     },
     "execution_count": 54,
     "metadata": {},
     "output_type": "execute_result"
    }
   ],
   "source": [
    "g.is_path_valid(path2)"
   ]
  },
  {
   "cell_type": "markdown",
   "metadata": {},
   "source": [
    "## edge_weight between two vertices"
   ]
  },
  {
   "cell_type": "code",
   "execution_count": 55,
   "metadata": {},
   "outputs": [
    {
     "data": {
      "text/plain": [
       "7"
      ]
     },
     "execution_count": 55,
     "metadata": {},
     "output_type": "execute_result"
    }
   ],
   "source": [
    "g.edge_weight(\"A\",\"D\")"
   ]
  },
  {
   "cell_type": "code",
   "execution_count": 56,
   "metadata": {},
   "outputs": [
    {
     "data": {
      "text/plain": [
       "inf"
      ]
     },
     "execution_count": 56,
     "metadata": {},
     "output_type": "execute_result"
    }
   ],
   "source": [
    "g.edge_weight(\"A\",\"E\")"
   ]
  },
  {
   "cell_type": "code",
   "execution_count": 57,
   "metadata": {},
   "outputs": [
    {
     "ename": "IndexError",
     "evalue": "",
     "output_type": "error",
     "traceback": [
      "\u001b[0;31m---------------------------------------------------------------------------\u001b[0m",
      "\u001b[0;31mIndexError\u001b[0m                                Traceback (most recent call last)",
      "\u001b[0;32m<ipython-input-57-1455fdc2b6bc>\u001b[0m in \u001b[0;36m<module>\u001b[0;34m\u001b[0m\n\u001b[0;32m----> 1\u001b[0;31m \u001b[0mg\u001b[0m\u001b[0;34m.\u001b[0m\u001b[0medge_weight\u001b[0m\u001b[0;34m(\u001b[0m\u001b[0;34m\"A\"\u001b[0m\u001b[0;34m,\u001b[0m \u001b[0;34m\"Z\"\u001b[0m\u001b[0;34m)\u001b[0m\u001b[0;34m\u001b[0m\u001b[0;34m\u001b[0m\u001b[0m\n\u001b[0m",
      "\u001b[0;32m<ipython-input-44-cbc4cc8a0b19>\u001b[0m in \u001b[0;36medge_weight\u001b[0;34m(self, u, v)\u001b[0m\n\u001b[1;32m     83\u001b[0m         \u001b[0;31m# Check if vertices exists\u001b[0m\u001b[0;34m\u001b[0m\u001b[0;34m\u001b[0m\u001b[0;34m\u001b[0m\u001b[0m\n\u001b[1;32m     84\u001b[0m         \u001b[0;32mif\u001b[0m \u001b[0mu\u001b[0m \u001b[0;32mnot\u001b[0m \u001b[0;32min\u001b[0m \u001b[0mself\u001b[0m\u001b[0;34m.\u001b[0m\u001b[0mnodes\u001b[0m \u001b[0;32mor\u001b[0m \u001b[0mv\u001b[0m \u001b[0;32mnot\u001b[0m \u001b[0;32min\u001b[0m \u001b[0mself\u001b[0m\u001b[0;34m.\u001b[0m\u001b[0mnodes\u001b[0m\u001b[0;34m:\u001b[0m\u001b[0;34m\u001b[0m\u001b[0;34m\u001b[0m\u001b[0m\n\u001b[0;32m---> 85\u001b[0;31m             \u001b[0;32mraise\u001b[0m \u001b[0mIndexError\u001b[0m\u001b[0;34m\u001b[0m\u001b[0;34m\u001b[0m\u001b[0m\n\u001b[0m\u001b[1;32m     86\u001b[0m         \u001b[0;31m# ok they exist, so lets see if they're connected\u001b[0m\u001b[0;34m\u001b[0m\u001b[0;34m\u001b[0m\u001b[0;34m\u001b[0m\u001b[0m\n\u001b[1;32m     87\u001b[0m         \u001b[0;32mif\u001b[0m \u001b[0mv\u001b[0m \u001b[0;32min\u001b[0m \u001b[0mself\u001b[0m\u001b[0;34m.\u001b[0m\u001b[0mgraph\u001b[0m\u001b[0;34m[\u001b[0m\u001b[0mu\u001b[0m\u001b[0;34m]\u001b[0m\u001b[0;34m:\u001b[0m\u001b[0;34m\u001b[0m\u001b[0;34m\u001b[0m\u001b[0m\n",
      "\u001b[0;31mIndexError\u001b[0m: "
     ]
    }
   ],
   "source": [
    "g.edge_weight(\"A\", \"Z\")"
   ]
  },
  {
   "cell_type": "markdown",
   "metadata": {},
   "source": [
    "### path_weight , get the total weight between a path!!"
   ]
  },
  {
   "cell_type": "code",
   "execution_count": 30,
   "metadata": {},
   "outputs": [],
   "source": [
    "path = [\"A\",\"B\",\"C\",\"D\"]"
   ]
  },
  {
   "cell_type": "code",
   "execution_count": 31,
   "metadata": {},
   "outputs": [],
   "source": [
    "path2 = [\"A\",\"B\",\"C\",\"E\"]"
   ]
  },
  {
   "cell_type": "code",
   "execution_count": 32,
   "metadata": {},
   "outputs": [
    {
     "data": {
      "text/plain": [
       "6"
      ]
     },
     "execution_count": 32,
     "metadata": {},
     "output_type": "execute_result"
    }
   ],
   "source": [
    "g.path_weight(path)"
   ]
  },
  {
   "cell_type": "code",
   "execution_count": 35,
   "metadata": {},
   "outputs": [
    {
     "data": {
      "text/plain": [
       "inf"
      ]
     },
     "execution_count": 35,
     "metadata": {},
     "output_type": "execute_result"
    }
   ],
   "source": [
    "g.path_weight(path2)"
   ]
  },
  {
   "cell_type": "markdown",
   "metadata": {},
   "source": [
    "### Does the path exist function"
   ]
  },
  {
   "cell_type": "code",
   "execution_count": null,
   "metadata": {},
   "outputs": [],
   "source": []
  },
  {
   "cell_type": "code",
   "execution_count": 139,
   "metadata": {},
   "outputs": [
    {
     "data": {
      "text/plain": [
       "True"
      ]
     },
     "execution_count": 139,
     "metadata": {},
     "output_type": "execute_result"
    }
   ],
   "source": [
    "g.does_path_exist(\"A\", \"B\")"
   ]
  },
  {
   "cell_type": "code",
   "execution_count": null,
   "metadata": {},
   "outputs": [],
   "source": []
  },
  {
   "cell_type": "code",
   "execution_count": null,
   "metadata": {},
   "outputs": [],
   "source": []
  },
  {
   "cell_type": "code",
   "execution_count": null,
   "metadata": {},
   "outputs": [],
   "source": []
  },
  {
   "cell_type": "code",
   "execution_count": null,
   "metadata": {},
   "outputs": [],
   "source": []
  },
  {
   "cell_type": "markdown",
   "metadata": {},
   "source": [
    "## Find Minimum Weight Path"
   ]
  },
  {
   "cell_type": "code",
   "execution_count": 170,
   "metadata": {},
   "outputs": [
    {
     "data": {
      "text/plain": [
       "['A', 'C', 'D', 'E']"
      ]
     },
     "execution_count": 170,
     "metadata": {},
     "output_type": "execute_result"
    }
   ],
   "source": [
    "g.find_min_weight_path(\"A\",\"E\")"
   ]
  },
  {
   "cell_type": "code",
   "execution_count": 173,
   "metadata": {},
   "outputs": [
    {
     "ename": "IndexError",
     "evalue": "",
     "output_type": "error",
     "traceback": [
      "\u001b[0;31m---------------------------------------------------------------------------\u001b[0m",
      "\u001b[0;31mIndexError\u001b[0m                                Traceback (most recent call last)",
      "\u001b[0;32m<ipython-input-173-9209cc106ebb>\u001b[0m in \u001b[0;36m<module>\u001b[0;34m\u001b[0m\n\u001b[1;32m      2\u001b[0m \u001b[0md\u001b[0m \u001b[0;34m=\u001b[0m \u001b[0;34m\"I\"\u001b[0m\u001b[0;34m\u001b[0m\u001b[0;34m\u001b[0m\u001b[0m\n\u001b[1;32m      3\u001b[0m \u001b[0;34m\u001b[0m\u001b[0m\n\u001b[0;32m----> 4\u001b[0;31m \u001b[0;32mif\u001b[0m \u001b[0mg\u001b[0m\u001b[0;34m.\u001b[0m\u001b[0mdoes_path_exist\u001b[0m\u001b[0;34m(\u001b[0m\u001b[0ms\u001b[0m\u001b[0;34m,\u001b[0m \u001b[0md\u001b[0m\u001b[0;34m)\u001b[0m\u001b[0;34m:\u001b[0m\u001b[0;34m\u001b[0m\u001b[0;34m\u001b[0m\u001b[0m\n\u001b[0m\u001b[1;32m      5\u001b[0m \u001b[0;34m\u001b[0m\u001b[0m\n\u001b[1;32m      6\u001b[0m \u001b[0;34m\u001b[0m\u001b[0m\n",
      "\u001b[0;32m<ipython-input-167-b3797c31eb48>\u001b[0m in \u001b[0;36mdoes_path_exist\u001b[0;34m(self, u, v)\u001b[0m\n\u001b[1;32m    110\u001b[0m         \u001b[0;31m# Vertex not in graph\u001b[0m\u001b[0;34m\u001b[0m\u001b[0;34m\u001b[0m\u001b[0;34m\u001b[0m\u001b[0m\n\u001b[1;32m    111\u001b[0m         \u001b[0;32mif\u001b[0m \u001b[0mu\u001b[0m \u001b[0;32mnot\u001b[0m \u001b[0;32min\u001b[0m \u001b[0mself\u001b[0m\u001b[0;34m.\u001b[0m\u001b[0mnodes\u001b[0m \u001b[0;32mor\u001b[0m \u001b[0mv\u001b[0m \u001b[0;32mnot\u001b[0m \u001b[0;32min\u001b[0m \u001b[0mself\u001b[0m\u001b[0;34m.\u001b[0m\u001b[0mnodes\u001b[0m\u001b[0;34m:\u001b[0m\u001b[0;34m\u001b[0m\u001b[0;34m\u001b[0m\u001b[0m\n\u001b[0;32m--> 112\u001b[0;31m             \u001b[0;32mraise\u001b[0m \u001b[0mIndexError\u001b[0m\u001b[0;34m\u001b[0m\u001b[0;34m\u001b[0m\u001b[0m\n\u001b[0m\u001b[1;32m    113\u001b[0m \u001b[0;34m\u001b[0m\u001b[0m\n\u001b[1;32m    114\u001b[0m         \u001b[0;31m#Create a Queue\u001b[0m\u001b[0;34m\u001b[0m\u001b[0;34m\u001b[0m\u001b[0;34m\u001b[0m\u001b[0m\n",
      "\u001b[0;31mIndexError\u001b[0m: "
     ]
    }
   ],
   "source": [
    "s = \"A\"\n",
    "d = \"I\"\n",
    "\n",
    "if g.does_path_exist(s, d):\n",
    "    \n",
    "    \n",
    "        \n",
    "    p = g.find_min_weight_path(s, d)  #prints minimum weight path\n",
    "    \n",
    "    ## number of edges in the path from source to the destination\n",
    "    print('Path with', len(p) - 1, 'edges exists')\n",
    "    print(p)                                        "
   ]
  },
  {
   "cell_type": "code",
   "execution_count": null,
   "metadata": {},
   "outputs": [],
   "source": []
  },
  {
   "cell_type": "code",
   "execution_count": null,
   "metadata": {},
   "outputs": [],
   "source": []
  },
  {
   "cell_type": "code",
   "execution_count": null,
   "metadata": {},
   "outputs": [],
   "source": []
  },
  {
   "cell_type": "code",
   "execution_count": null,
   "metadata": {},
   "outputs": [],
   "source": []
  },
  {
   "cell_type": "markdown",
   "metadata": {},
   "source": [
    "## Is Bipartite"
   ]
  },
  {
   "cell_type": "code",
   "execution_count": null,
   "metadata": {},
   "outputs": [],
   "source": []
  },
  {
   "cell_type": "code",
   "execution_count": null,
   "metadata": {},
   "outputs": [],
   "source": []
  },
  {
   "cell_type": "code",
   "execution_count": null,
   "metadata": {},
   "outputs": [],
   "source": []
  },
  {
   "cell_type": "code",
   "execution_count": null,
   "metadata": {},
   "outputs": [],
   "source": []
  },
  {
   "cell_type": "code",
   "execution_count": null,
   "metadata": {},
   "outputs": [],
   "source": []
  },
  {
   "cell_type": "code",
   "execution_count": null,
   "metadata": {},
   "outputs": [],
   "source": []
  },
  {
   "cell_type": "markdown",
   "metadata": {},
   "source": [
    "#### TXT FILE"
   ]
  },
  {
   "cell_type": "code",
   "execution_count": 4,
   "metadata": {},
   "outputs": [
    {
     "ename": "SyntaxError",
     "evalue": "invalid syntax (<ipython-input-4-1ba2a61cf0ef>, line 2)",
     "output_type": "error",
     "traceback": [
      "\u001b[0;36m  File \u001b[0;32m\"<ipython-input-4-1ba2a61cf0ef>\"\u001b[0;36m, line \u001b[0;32m2\u001b[0m\n\u001b[0;31m    0 1 5.0\u001b[0m\n\u001b[0m      ^\u001b[0m\n\u001b[0;31mSyntaxError\u001b[0m\u001b[0;31m:\u001b[0m invalid syntax\n"
     ]
    }
   ],
   "source": [
    "10\n",
    "0 1 5.0 \n",
    "0 2 10.0 \n",
    "1 3 3.0 \n",
    "1 4 6.0 \n",
    "3 2 2.0 \n",
    "3 4 2.0 \n",
    "3 5 2.0 \n",
    "4 6 6.0 \n",
    "5 6 2.0 \n",
    "7 9 1.0 \n",
    "8 7 2.0 \n",
    "8 9 4.0\n"
   ]
  },
  {
   "cell_type": "markdown",
   "metadata": {},
   "source": [
    "### Main Read File Program"
   ]
  },
  {
   "cell_type": "code",
   "execution_count": null,
   "metadata": {},
   "outputs": [],
   "source": []
  },
  {
   "cell_type": "code",
   "execution_count": null,
   "metadata": {},
   "outputs": [],
   "source": []
  },
  {
   "cell_type": "code",
   "execution_count": 128,
   "metadata": {},
   "outputs": [],
   "source": [
    "\"\"\"\n",
    "A weighted graph implemented as a dictionary of key = vertex, value = dictionary.\n",
    "    Inner dictionary: key = vertex has edge to. Value is weight of edge.\n",
    "    Method for storing edges: Adjacency list\n",
    "\"\"\"\n",
    "import math\n",
    "from operator import itemgetter\n",
    "\n",
    "\n",
    "class Graph:\n",
    "    \"\"\"\n",
    "    The graph has pathﬁnding capabilities. It is able to ﬁnd the minimum weight path between two vertices.\n",
    "    It also can report if it is bipartite using a graph coloring algorithm.\n",
    "    An edge connects two vertices, u and v, and speciﬁes a weight on that connection, w.\n",
    "    Edges are undirected and, therefore, symmetric; (u,v,w) means the same thing as (v,u,w).\n",
    "    \"\"\"\n",
    "\n",
    "    def __init__(self, n):\n",
    "        \"\"\"\n",
    "        Constructor\n",
    "        :param n: Number of vertices\n",
    "        \"\"\"\n",
    "        self.order = n\n",
    "        self.size = 0\n",
    "        # You may put any required initialization code here\n",
    "        self.graph = {}\n",
    "        # Make inner dict for each vertex\n",
    "        for i in range(self.order):\n",
    "            self.graph[i] = {}\n",
    "\n",
    "    def insert_edge(self, u, v, w):\n",
    "        \"\"\"\n",
    "        Function to create a new edge in the graph\n",
    "        :param u: Start vertex\n",
    "        :param v: End vertex\n",
    "        :param w: Weight\n",
    "        \"\"\"\n",
    "        # Vertex not in graph\n",
    "        if u >= self.order or v >= self.order:\n",
    "            raise IndexError\n",
    "        # Weighted graph so need to insert in dict of u and v\n",
    "        if v in self.graph[u]:\n",
    "            # Set new weight\n",
    "            self.graph[u][v] = w\n",
    "            self.graph[v][u] = w\n",
    "        else:\n",
    "            # Add vertex and weight\n",
    "            self.graph[u][v] = w\n",
    "            self.graph[v][u] = w\n",
    "            self.size += 1\n",
    "\n",
    "    def degree(self, v):\n",
    "        \"\"\"\n",
    "        Get the degree of vertex\n",
    "        :param v: Vertex to get\n",
    "        :return: Degree of v\n",
    "        \"\"\"\n",
    "        # Vertex not in graph\n",
    "        if v >= self.order:\n",
    "            raise IndexError\n",
    "        # Number of degrees is number of values for v\n",
    "        return len(self.graph[v])\n",
    "\n",
    "    def are_connected(self, u, v):\n",
    "        \"\"\"\n",
    "        See if two vertices are connected\n",
    "        :param u: Start vertex\n",
    "        :param v: End vertex\n",
    "        :return: True if connected, False otherwise\n",
    "        \"\"\"\n",
    "        # Vertex not in graph\n",
    "        if u >= self.order or v >= self.order:\n",
    "            raise IndexError\n",
    "        # Will return True if v is a key in the inner dict\n",
    "        return v in self.graph[u]\n",
    "\n",
    "    def is_path_valid(self, path):\n",
    "        \"\"\"\n",
    "        See if path valid\n",
    "        :param path: List of vertices in order of path\n",
    "        :return: True if valid, False otherwise\n",
    "        \"\"\"\n",
    "        for i in range(len(path) - 1):\n",
    "            # If not connected, not a path, return False\n",
    "            if not self.are_connected(path[i], path[i + 1]):\n",
    "                return False\n",
    "        return True\n",
    "\n",
    "    def edge_weight(self, u, v):\n",
    "        \"\"\"\n",
    "        Get the weight of an edge between vertices\n",
    "        :param u: Start vertex\n",
    "        :param v: End vertex\n",
    "        :return: Weight if connected, inf if not\n",
    "        \"\"\"\n",
    "        # Vertex not in graph\n",
    "        if u >= self.order or v >= self.order:\n",
    "            raise IndexError\n",
    "        if v in self.graph[u]:\n",
    "            # Weight of connected vertices\n",
    "            return self.graph[u][v]\n",
    "        else:\n",
    "            # Vertices not connected\n",
    "            return math.inf\n",
    "\n",
    "    def path_weight(self, path):\n",
    "        \"\"\"\n",
    "        Get total weight of path\n",
    "        :param path: List of vertices in path order\n",
    "        :return: Total weight of path\n",
    "        \"\"\"\n",
    "        weight = 0\n",
    "        for i in range(len(path) - 1):\n",
    "            # Add up weights of edges\n",
    "            weight += self.edge_weight(path[i], path[i + 1])\n",
    "        return weight\n",
    "\n",
    "    \n",
    "    def does_path_exist(self, u, v):\n",
    "        \n",
    "   \n",
    "        # Vertex not in graph\n",
    "    \n",
    "\n",
    "        #Create a Queue\n",
    "        queue = []        \n",
    "        # Keep track of which vertices we've visited\n",
    "\n",
    "        visited = []\n",
    "        visited.append(u)\n",
    "        queue.append(u)\n",
    "\n",
    "        # while Queue isnt empty\n",
    "        while queue:\n",
    "\n",
    "            vertex = queue.pop(0)\n",
    "\n",
    "            # Found path is found\n",
    "            if vertex == v:\n",
    "                return True\n",
    "\n",
    "            for neighbour in self.graph[vertex]:\n",
    "                if neighbour not in visited:\n",
    "\n",
    "                    queue.append(neighbour)                      # if neighbour node hasnt been visited we will add to the Queue \n",
    "                    visited.append(neighbour)                # and add it to the list of visited nodes\n",
    "\n",
    "                else:\n",
    "                    print(\"Already Visited that node!\")       # if the neighbour is already in our visited list we alread visited it!!\n",
    "\n",
    "        #if path doesnt exist\n",
    "        return False\n",
    "\n",
    "    \n",
    "    \n",
    "    \n",
    "    \n",
    "    def find_min_weight_path(self, u, v):\n",
    "        \"\"\"\n",
    "        Find minimum weight path if exists\n",
    "        :param u: Start vertex\n",
    "        :param v: End vertex\n",
    "        :return: The minimum weight path if exists, raise IndexError if doesn't\n",
    "        \"\"\"\n",
    "        dist = {}\n",
    "        prior = {}\n",
    "        nodes = set(i for i in range(self.order))\n",
    "        print(\"Nodes set: \", nodes)\n",
    "        # Initialize distances\n",
    "        for i in range(self.order):\n",
    "            dist[i] = math.inf\n",
    "\n",
    "        dist[u] = 0\n",
    "        prior[u] = u\n",
    "        visited = set()\n",
    "        # While haven't visited every node in self.order\n",
    "        while visited != nodes:\n",
    "            others = []\n",
    "            # Keep track of possible paths\n",
    "            for other in nodes - visited:\n",
    "                others.append((other, dist[other]))\n",
    "            x = sorted(others, key=itemgetter(1))[0][0]\n",
    "            for y, dis in self.graph[x].items():\n",
    "                # Update distances and priors for the vertices\n",
    "                if dist[x] + dis < dist[y]:\n",
    "                    dist[y] = dist[x] + dis\n",
    "                    prior[y] = x\n",
    "            # Update visited\n",
    "            visited.add(x)\n",
    "        # Raise ValueError if no path exists\n",
    "        if v not in prior:\n",
    "            raise ValueError\n",
    "\n",
    "        # Create return list of minimum weight path\n",
    "        path = []\n",
    "        node = v\n",
    "        while node != u:\n",
    "            path.append(node)\n",
    "            node = prior[node]\n",
    "        path.append(u)\n",
    "        path.reverse()\n",
    "        return path\n",
    "\n",
    "    \n",
    "    \n",
    "    \n",
    "    \n",
    "    \n",
    "    \n",
    "    \n",
    "    def is_bipartite(self):\n",
    "        \"\"\"\n",
    "        Determine if graph is bipartite\n",
    "        :return: True if bipartite, False otherwise\n",
    "        \"\"\"\n",
    "        # Create color array to store colors assigned to vertices\n",
    "        # Value -1 means no color assigned to vertex\n",
    "        # Value 1 means first color, 0 means second color\n",
    "        color = {}\n",
    "        for i in range(self.order):\n",
    "            color[i] = -1\n",
    "        q = []\n",
    "        q.append(1)\n",
    "        # Create FIFO queue of vertex and enqueue source vertex for BFS traversal\n",
    "        while q:\n",
    "            u = q.pop()\n",
    "            # Return false if there is a self loop\n",
    "            for k in self.graph[u]:\n",
    "                if k == u:\n",
    "                    return False\n",
    "            # An edge from u to v exists and destination v is not colored\n",
    "            for v in range(self.order):\n",
    "                for x in self.graph[v]:\n",
    "                    if x == u and color[v] == -1:\n",
    "                        # Assign alternate color to adjacent v of u\n",
    "                        color[v] = 1 - color[u]\n",
    "                        q.append(v)\n",
    "                    # Edge from u to v exists and destination v is colored w/ same color as u\n",
    "                    elif x == u and color[v] == color[u]:\n",
    "                        return False\n",
    "        # All adjacent vertices can be colored w alternate color\n",
    "        return True\n"
   ]
  },
  {
   "cell_type": "code",
   "execution_count": null,
   "metadata": {},
   "outputs": [],
   "source": []
  },
  {
   "cell_type": "code",
   "execution_count": 129,
   "metadata": {},
   "outputs": [
    {
     "name": "stdout",
     "output_type": "stream",
     "text": [
      "Source vertex?3\n",
      "Dest vertex?0\n",
      "Degree(s): 4\n",
      "Degree(d): 2\n",
      "Already Visited that node!\n",
      "Already Visited that node!\n",
      "Already Visited that node!\n",
      "Already Visited that node!\n",
      "Already Visited that node!\n",
      "Already Visited that node!\n",
      "Already Visited that node!\n",
      "Already Visited that node!\n",
      "Nodes set:  {0, 1, 2, 3, 4, 5, 6, 7, 8, 9}\n",
      "Path with 2 edges exists\n",
      "[3, 1, 0]\n",
      "Path weight: 8.0\n"
     ]
    }
   ],
   "source": [
    "\n",
    "#from Graph import Graph\n",
    "\n",
    "\n",
    "def read_graph(filename):\n",
    "    '''Opens file and reads it into a Graph, creates a graph object'''\n",
    "    with open(filename, 'r') as reader:\n",
    "        \n",
    "        g = Graph(int(reader.readline()))\n",
    "        \n",
    "        for line in reader:\n",
    "            (u, v, w) = line.split()\n",
    "            g.insert_edge(int(u), int(v), float(w))\n",
    "            \n",
    "        return g\n",
    "\n",
    "    \n",
    "    \n",
    "\n",
    "def main(filename):\n",
    "    g = read_graph(filename)\n",
    "    \n",
    "    '''ask for source and a destination vertex'''\n",
    "    s = int(input('Source vertex?'))\n",
    "    d = int(input('Dest vertex?'))\n",
    "    \n",
    "    ## Returns \n",
    "    # Returns Degrees\n",
    "    print('Degree(s):', g.degree(s))\n",
    "    print('Degree(d):', g.degree(d))\n",
    "    \n",
    "    \n",
    "    \n",
    "    \n",
    "    #Returns different Questions about the Graph\n",
    "    if g.does_path_exist(s, d):\n",
    "    \n",
    "        \n",
    "        p = g.find_min_weight_path(s, d)  #prints minimum weight path\n",
    "        \n",
    "        print('Path with', len(p) - 1, 'edges exists')\n",
    "        print(p)                                        \n",
    "        \n",
    "        if g.is_path_valid(p):\n",
    "            print('Path weight:', g.path_weight(p))\n",
    "        else:\n",
    "            print('But your path is no good!')\n",
    "    else:\n",
    "        print('No path exists')\n",
    "        \n",
    "    \n",
    "    \n",
    "\n",
    "\n",
    "if __name__ == '__main__':\n",
    "    main('g2.txt')\n",
    "    \n",
    "    \n"
   ]
  },
  {
   "cell_type": "code",
   "execution_count": null,
   "metadata": {},
   "outputs": [],
   "source": []
  },
  {
   "cell_type": "code",
   "execution_count": null,
   "metadata": {},
   "outputs": [],
   "source": []
  },
  {
   "cell_type": "code",
   "execution_count": null,
   "metadata": {},
   "outputs": [],
   "source": []
  },
  {
   "cell_type": "code",
   "execution_count": null,
   "metadata": {},
   "outputs": [],
   "source": []
  },
  {
   "cell_type": "code",
   "execution_count": null,
   "metadata": {},
   "outputs": [],
   "source": []
  },
  {
   "cell_type": "code",
   "execution_count": null,
   "metadata": {},
   "outputs": [],
   "source": []
  },
  {
   "cell_type": "code",
   "execution_count": null,
   "metadata": {},
   "outputs": [],
   "source": []
  },
  {
   "cell_type": "code",
   "execution_count": null,
   "metadata": {},
   "outputs": [],
   "source": []
  },
  {
   "cell_type": "code",
   "execution_count": null,
   "metadata": {},
   "outputs": [],
   "source": []
  },
  {
   "cell_type": "code",
   "execution_count": null,
   "metadata": {},
   "outputs": [],
   "source": []
  },
  {
   "cell_type": "code",
   "execution_count": null,
   "metadata": {},
   "outputs": [],
   "source": []
  },
  {
   "cell_type": "code",
   "execution_count": null,
   "metadata": {},
   "outputs": [],
   "source": []
  },
  {
   "cell_type": "code",
   "execution_count": null,
   "metadata": {},
   "outputs": [],
   "source": []
  },
  {
   "cell_type": "code",
   "execution_count": null,
   "metadata": {},
   "outputs": [],
   "source": []
  },
  {
   "cell_type": "code",
   "execution_count": null,
   "metadata": {},
   "outputs": [],
   "source": []
  },
  {
   "cell_type": "code",
   "execution_count": null,
   "metadata": {},
   "outputs": [],
   "source": []
  }
 ],
 "metadata": {
  "kernelspec": {
   "display_name": "Python 3",
   "language": "python",
   "name": "python3"
  },
  "language_info": {
   "codemirror_mode": {
    "name": "ipython",
    "version": 3
   },
   "file_extension": ".py",
   "mimetype": "text/x-python",
   "name": "python",
   "nbconvert_exporter": "python",
   "pygments_lexer": "ipython3",
   "version": "3.8.3"
  }
 },
 "nbformat": 4,
 "nbformat_minor": 4
}
