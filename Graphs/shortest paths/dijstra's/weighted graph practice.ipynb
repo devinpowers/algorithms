{
 "cells": [
  {
   "cell_type": "code",
   "execution_count": null,
   "metadata": {},
   "outputs": [],
   "source": []
  },
  {
   "cell_type": "code",
   "execution_count": 68,
   "metadata": {},
   "outputs": [],
   "source": [
    "class Graph:\n",
    "    \n",
    "    def __init__(self, Nodes):\n",
    "        self.nodes = Nodes\n",
    "        self.adj_list = {}\n",
    "                \n",
    "        for node in self.nodes:\n",
    "            # add node as a key into a dictionary\n",
    "            self.adj_list[node] = {}\n",
    "            \n",
    "    def add_edge(self, u, v, w):\n",
    "        \n",
    "        for key, value in self.adj_list.items():\n",
    "            \n",
    "            k\n",
    "        \n",
    "        for v in self.adj_list[u]:\n",
    "            print(\"adding vertex\", v)\n",
    "            \n",
    "            self.adj_list[v] = \n",
    "    \n",
    "    def _print(self):\n",
    "        \n",
    "        for vertex, edge in self.adj_list.items():\n",
    "            print(\"Vertex: \", vertex)\n",
    "            print(\"Edge:\", edge)\n",
    "            \n",
    "            for weight in edge:\n",
    "                print(weight + \"->\", edge[weight])\n",
    "        \n",
    "        \n",
    "\n",
    "    "
   ]
  },
  {
   "cell_type": "code",
   "execution_count": 69,
   "metadata": {},
   "outputs": [],
   "source": [
    "nodes = [\"A\", \"B\",\"C\",\"D\"]"
   ]
  },
  {
   "cell_type": "code",
   "execution_count": 63,
   "metadata": {},
   "outputs": [],
   "source": [
    "all_edges = [\n",
    "\n",
    "    (\"A\",\"B\",3),(\"A\",\"C\", 2),(\"B\",\"D\", 4),(\"C\",\"D\", 5)\n",
    "]"
   ]
  },
  {
   "cell_type": "code",
   "execution_count": 70,
   "metadata": {},
   "outputs": [],
   "source": [
    "graph1 = Graph(nodes)\n"
   ]
  },
  {
   "cell_type": "code",
   "execution_count": 71,
   "metadata": {},
   "outputs": [
    {
     "name": "stdout",
     "output_type": "stream",
     "text": [
      "u: A\n",
      "v: B\n",
      "w: 3\n",
      "u: A\n",
      "v: C\n",
      "w: 2\n",
      "u: B\n",
      "v: D\n",
      "w: 4\n",
      "u: C\n",
      "v: D\n",
      "w: 5\n"
     ]
    }
   ],
   "source": [
    "\n",
    "for u,v,w in all_edges:\n",
    "    print(\"u:\",u)\n",
    "    print(\"v:\", v)\n",
    "    print(\"w:\", w)\n",
    "    graph1.add_edge(u,v,w)\n"
   ]
  },
  {
   "cell_type": "code",
   "execution_count": 72,
   "metadata": {},
   "outputs": [
    {
     "name": "stdout",
     "output_type": "stream",
     "text": [
      "Vertex:  A\n",
      "Edge: {}\n",
      "Vertex:  B\n",
      "Edge: {}\n",
      "Vertex:  C\n",
      "Edge: {}\n",
      "Vertex:  D\n",
      "Edge: {}\n"
     ]
    }
   ],
   "source": [
    "graph1._print()"
   ]
  },
  {
   "cell_type": "code",
   "execution_count": 67,
   "metadata": {},
   "outputs": [
    {
     "name": "stdout",
     "output_type": "stream",
     "text": [
      "u: A\n",
      "v: B\n",
      "w: 3\n",
      "u: A\n",
      "v: C\n",
      "w: 2\n",
      "u: B\n",
      "v: D\n",
      "w: 4\n",
      "u: C\n",
      "v: D\n",
      "w: 5\n"
     ]
    }
   ],
   "source": [
    "\n",
    "for u,v,w in all_edges:\n",
    "    print(\"u:\",u)\n",
    "    print(\"v:\", v)\n",
    "    print(\"w:\", w)\n",
    "    graph1.add_edge(u,v,w)\n"
   ]
  },
  {
   "cell_type": "code",
   "execution_count": 66,
   "metadata": {},
   "outputs": [
    {
     "name": "stdout",
     "output_type": "stream",
     "text": [
      "Vertex:  A\n",
      "Edge: {}\n",
      "Vertex:  B\n",
      "Edge: {}\n",
      "Vertex:  C\n",
      "Edge: {}\n",
      "Vertex:  D\n",
      "Edge: {}\n"
     ]
    }
   ],
   "source": [
    "graph1._print()"
   ]
  },
  {
   "cell_type": "code",
   "execution_count": null,
   "metadata": {},
   "outputs": [],
   "source": []
  },
  {
   "cell_type": "code",
   "execution_count": null,
   "metadata": {},
   "outputs": [],
   "source": []
  },
  {
   "cell_type": "code",
   "execution_count": 57,
   "metadata": {},
   "outputs": [],
   "source": [
    "adj_list = {\"A\":{},\n",
    "            \"B\":{},\n",
    "            \"C\":{},\n",
    "            \"D\":{}\n",
    "           }"
   ]
  },
  {
   "cell_type": "code",
   "execution_count": null,
   "metadata": {},
   "outputs": [],
   "source": []
  },
  {
   "cell_type": "code",
   "execution_count": null,
   "metadata": {},
   "outputs": [],
   "source": []
  },
  {
   "cell_type": "code",
   "execution_count": null,
   "metadata": {},
   "outputs": [],
   "source": []
  },
  {
   "cell_type": "code",
   "execution_count": null,
   "metadata": {},
   "outputs": [],
   "source": []
  },
  {
   "cell_type": "code",
   "execution_count": null,
   "metadata": {},
   "outputs": [],
   "source": []
  },
  {
   "cell_type": "code",
   "execution_count": null,
   "metadata": {},
   "outputs": [],
   "source": []
  },
  {
   "cell_type": "code",
   "execution_count": 7,
   "metadata": {},
   "outputs": [],
   "source": []
  },
  {
   "cell_type": "code",
   "execution_count": null,
   "metadata": {},
   "outputs": [],
   "source": []
  },
  {
   "cell_type": "code",
   "execution_count": null,
   "metadata": {},
   "outputs": [],
   "source": []
  },
  {
   "cell_type": "code",
   "execution_count": null,
   "metadata": {},
   "outputs": [],
   "source": []
  },
  {
   "cell_type": "code",
   "execution_count": null,
   "metadata": {},
   "outputs": [],
   "source": []
  },
  {
   "cell_type": "code",
   "execution_count": null,
   "metadata": {},
   "outputs": [],
   "source": []
  },
  {
   "cell_type": "code",
   "execution_count": null,
   "metadata": {},
   "outputs": [],
   "source": []
  }
 ],
 "metadata": {
  "kernelspec": {
   "display_name": "Python 3",
   "language": "python",
   "name": "python3"
  },
  "language_info": {
   "codemirror_mode": {
    "name": "ipython",
    "version": 3
   },
   "file_extension": ".py",
   "mimetype": "text/x-python",
   "name": "python",
   "nbconvert_exporter": "python",
   "pygments_lexer": "ipython3",
   "version": "3.8.3"
  }
 },
 "nbformat": 4,
 "nbformat_minor": 4
}
