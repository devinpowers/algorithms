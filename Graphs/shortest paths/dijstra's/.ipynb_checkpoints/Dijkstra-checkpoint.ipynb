{
 "cells": [
  {
   "cell_type": "code",
   "execution_count": null,
   "metadata": {},
   "outputs": [],
   "source": []
  },
  {
   "cell_type": "markdown",
   "metadata": {},
   "source": [
    "## Graph With Nodes, Edges, and thier Weights"
   ]
  },
  {
   "cell_type": "code",
   "execution_count": 3,
   "metadata": {},
   "outputs": [],
   "source": [
    "class Graph:\n",
    "    \n",
    "    def __init__(self, Nodes, is_directed = False):\n",
    "        self.nodes = Nodes\n",
    "        self.adj_list = {}\n",
    "        \n",
    "        self.is_directed = is_directed\n",
    "\n",
    "        \n",
    "        for node in self.nodes:\n",
    "            self.adj_list[node] = {}\n",
    "        \n",
    "            \n",
    "    def add_edge(self, u, v, w):\n",
    "        \n",
    "        self.adj_list[u][v] = w\n",
    "        \n",
    "        if not self.is_directed:\n",
    "            \n",
    "            \n",
    "            self.adj_list[v][u] = w\n",
    "            \n",
    "    def __len__(self):\n",
    "        return len(nodes)\n",
    "        \n",
    "    def __getitem__(self,node):\n",
    "            \n",
    "        return  self.adj_list[node]\n",
    "            \n",
    "    def __iter__(self):\n",
    "        return iter(self.adj_list)\n",
    "\n",
    "    \n",
    "    def degree(self,node):\n",
    "        '''Total number of edges coming out a given node'''\n",
    "        return  len(self.adj_list[node])\n",
    "        \n",
    "    \n",
    "    def print_adj_list(self):\n",
    "        \n",
    "        for node in self.nodes:\n",
    "            print(node, \"->\", self.adj_list[node])"
   ]
  },
  {
   "cell_type": "code",
   "execution_count": null,
   "metadata": {},
   "outputs": [],
   "source": []
  },
  {
   "cell_type": "code",
   "execution_count": 4,
   "metadata": {},
   "outputs": [],
   "source": [
    "all_edges = [\n",
    "\n",
    "    (\"A\",\"B\", 3),(\"A\",\"C\", 4),(\"A\",\"D\", 7),(\"C\",\"D\", 2),\n",
    "    (\"C\",\"B\", 1),(\"C\",\"F\",6),(\"B\",\"F\", 5),(\"F\",\"E\", 1),\n",
    "    (\"D\",\"E\", 3),(\"E\",\"G\", 3),(\"E\",\"H\", 4),(\"F\",\"H\", 8),\n",
    "    (\"D\",\"G\", 6),(\"E\",\"F\", 1),(\"G\",\"H\", 2)\n",
    "]\n",
    "nodes = [\"A\",\"B\",\"C\",\"D\",\"E\",\"F\",\"G\",\"H\"]\n",
    "\n",
    "graph1 = Graph(nodes)\n",
    "\n",
    "for u,v,w in all_edges:\n",
    "    graph1.add_edge(u,v,w)"
   ]
  },
  {
   "cell_type": "code",
   "execution_count": 5,
   "metadata": {},
   "outputs": [
    {
     "name": "stdout",
     "output_type": "stream",
     "text": [
      "A -> {'B': 3, 'C': 4, 'D': 7}\n",
      "B -> {'A': 3, 'C': 1, 'F': 5}\n",
      "C -> {'A': 4, 'D': 2, 'B': 1, 'F': 6}\n",
      "D -> {'A': 7, 'C': 2, 'E': 3, 'G': 6}\n",
      "E -> {'F': 1, 'D': 3, 'G': 3, 'H': 4}\n",
      "F -> {'C': 6, 'B': 5, 'E': 1, 'H': 8}\n",
      "G -> {'E': 3, 'D': 6, 'H': 2}\n",
      "H -> {'E': 4, 'F': 8, 'G': 2}\n"
     ]
    }
   ],
   "source": [
    "graph1.print_adj_list()\n"
   ]
  },
  {
   "cell_type": "code",
   "execution_count": 6,
   "metadata": {},
   "outputs": [
    {
     "data": {
      "text/plain": [
       "3"
      ]
     },
     "execution_count": 6,
     "metadata": {},
     "output_type": "execute_result"
    }
   ],
   "source": [
    "graph1.degree(\"A\")"
   ]
  },
  {
   "cell_type": "code",
   "execution_count": 17,
   "metadata": {},
   "outputs": [
    {
     "data": {
      "text/plain": [
       "4"
      ]
     },
     "execution_count": 17,
     "metadata": {},
     "output_type": "execute_result"
    }
   ],
   "source": [
    "graph1.degree(\"E\")"
   ]
  },
  {
   "cell_type": "code",
   "execution_count": null,
   "metadata": {},
   "outputs": [],
   "source": []
  },
  {
   "cell_type": "code",
   "execution_count": null,
   "metadata": {},
   "outputs": [],
   "source": []
  },
  {
   "cell_type": "code",
   "execution_count": null,
   "metadata": {},
   "outputs": [],
   "source": []
  },
  {
   "cell_type": "code",
   "execution_count": null,
   "metadata": {},
   "outputs": [],
   "source": []
  },
  {
   "cell_type": "code",
   "execution_count": null,
   "metadata": {},
   "outputs": [],
   "source": []
  },
  {
   "cell_type": "code",
   "execution_count": 4,
   "metadata": {},
   "outputs": [],
   "source": [
    "\n",
    "import heapq\n",
    "\n",
    "def Dijkstras(graph, starting_vertex):\n",
    "    distances = {}\n",
    "    distances = {vertex: float('infinity') for vertex in graph}\n",
    "\n",
    "    distances[starting_vertex] = 0\n",
    "\n",
    "    pq = [(0, starting_vertex)]\n",
    "\n",
    "\n",
    "    while len(pq) > 0:\n",
    "\n",
    "\n",
    "        current_distance, current_vertex = heapq.heappop(pq)\n",
    "        \n",
    "        if current_distance > distances[current_vertex]:\n",
    "            continue\n",
    "\n",
    "        for neighbor, weight in graph[current_vertex].items():\n",
    "            distance = current_distance + weight\n",
    "           \n",
    "            if distance < distances[neighbor]:\n",
    "                distances[neighbor] = distance\n",
    "                \n",
    "               \n",
    "                heapq.heappush(pq, (distance, neighbor))\n",
    "\n",
    "    return distances\n"
   ]
  },
  {
   "cell_type": "code",
   "execution_count": null,
   "metadata": {},
   "outputs": [],
   "source": []
  },
  {
   "cell_type": "code",
   "execution_count": 5,
   "metadata": {},
   "outputs": [
    {
     "data": {
      "text/plain": [
       "{'A': 0, 'B': 3, 'C': 4, 'D': 6, 'E': 9, 'F': 8, 'G': 12, 'H': 13}"
      ]
     },
     "execution_count": 5,
     "metadata": {},
     "output_type": "execute_result"
    }
   ],
   "source": [
    "Dijkstras(graph1, \"A\")\n"
   ]
  },
  {
   "cell_type": "code",
   "execution_count": null,
   "metadata": {},
   "outputs": [],
   "source": []
  },
  {
   "cell_type": "code",
   "execution_count": null,
   "metadata": {},
   "outputs": [],
   "source": [
    "\n"
   ]
  },
  {
   "cell_type": "markdown",
   "metadata": {},
   "source": [
    "### Find the Shortest Path with Weights"
   ]
  },
  {
   "cell_type": "code",
   "execution_count": null,
   "metadata": {},
   "outputs": [],
   "source": [
    "#nodes = set(graph1.nodes)"
   ]
  },
  {
   "cell_type": "code",
   "execution_count": null,
   "metadata": {},
   "outputs": [],
   "source": []
  },
  {
   "cell_type": "code",
   "execution_count": 35,
   "metadata": {},
   "outputs": [
    {
     "ename": "SyntaxError",
     "evalue": "invalid syntax (<ipython-input-35-e61296fc9c4a>, line 26)",
     "output_type": "error",
     "traceback": [
      "\u001b[0;36m  File \u001b[0;32m\"<ipython-input-35-e61296fc9c4a>\"\u001b[0;36m, line \u001b[0;32m26\u001b[0m\n\u001b[0;31m    x = sorted(others, key = itemgetter(1))[0][0]\u001b[0m\n\u001b[0m    ^\u001b[0m\n\u001b[0;31mSyntaxError\u001b[0m\u001b[0;31m:\u001b[0m invalid syntax\n"
     ]
    }
   ],
   "source": [
    "\n",
    "from operator import itemgetter\n",
    "\n",
    "def find_min_weight_path(graph, u, v):\n",
    "    \"\"\"\n",
    "    :param u = start vertex\n",
    "    :param v = end vertex\n",
    "\n",
    "    \n",
    "    \"\"\"\n",
    "    nodes = set(vertex for vertex in graph)\n",
    "\n",
    "    distance = {vertex: float('infinity') for vertex in graph }\n",
    "    distance[u] = 0       #set starting distance to 0\n",
    "    \n",
    "    prior = {}\n",
    "    prior[u] = u\n",
    "    \n",
    "    visited = set()\n",
    "    \n",
    "    ## while loop start\n",
    "    \n",
    "    while visited != nodes:\n",
    "        others = []\n",
    "        \n",
    "        for other in nodes - visited:\n",
    "            others.append((other, distance[other])\n",
    "                \n",
    "            \n",
    "        x = sorted(others, key = itemgetter(1))[0][0]\n",
    "        for y, distance in graph[x].items():\n",
    "            #update distances and priors for the Vertices\n",
    "            \n",
    "            if distance[x] + distance < distance[y]:\n",
    "                distance[y] = distance[x] + distance\n",
    "                prior[y] = x\n",
    "                \n",
    "        #update visited\n",
    "        \n",
    "        visited.add(x)\n",
    "        \n",
    "        #rasie value error ifno path exists\n",
    "        if v not in prior:\n",
    "            raise ValueError\n",
    "            \n",
    "            \n",
    "        # Create a return list of minimum weight path\n",
    "        \n",
    "        path = []\n",
    "        node = v\n",
    "        \n",
    "        while node != u:\n",
    "            path.append(node)\n",
    "            \n",
    "            node = prior[node]\n",
    "            \n",
    "        path.append(u)\n",
    "        path.reverse()\n",
    "        \n",
    "        return path\n",
    "    \n",
    "    \n",
    "    \n",
    "    \n",
    "    \n",
    "    \n",
    "    "
   ]
  },
  {
   "cell_type": "code",
   "execution_count": null,
   "metadata": {},
   "outputs": [],
   "source": []
  },
  {
   "cell_type": "code",
   "execution_count": 36,
   "metadata": {},
   "outputs": [
    {
     "ename": "TypeError",
     "evalue": "append() takes exactly one argument (2 given)",
     "output_type": "error",
     "traceback": [
      "\u001b[0;31m---------------------------------------------------------------------------\u001b[0m",
      "\u001b[0;31mTypeError\u001b[0m                                 Traceback (most recent call last)",
      "\u001b[0;32m<ipython-input-36-da73e2538902>\u001b[0m in \u001b[0;36m<module>\u001b[0;34m\u001b[0m\n\u001b[0;32m----> 1\u001b[0;31m \u001b[0mfind_min_weight_path\u001b[0m\u001b[0;34m(\u001b[0m\u001b[0mgraph1\u001b[0m\u001b[0;34m,\u001b[0m \u001b[0;34m\"A\"\u001b[0m\u001b[0;34m,\u001b[0m\u001b[0;34m\"H\"\u001b[0m\u001b[0;34m)\u001b[0m\u001b[0;34m\u001b[0m\u001b[0;34m\u001b[0m\u001b[0m\n\u001b[0m",
      "\u001b[0;32m<ipython-input-33-d36377045de6>\u001b[0m in \u001b[0;36mfind_min_weight_path\u001b[0;34m(graph, u, v)\u001b[0m\n\u001b[1;32m     22\u001b[0m \u001b[0;34m\u001b[0m\u001b[0m\n\u001b[1;32m     23\u001b[0m         \u001b[0;32mfor\u001b[0m \u001b[0mother\u001b[0m \u001b[0;32min\u001b[0m \u001b[0mnodes\u001b[0m \u001b[0;34m-\u001b[0m \u001b[0mvisited\u001b[0m\u001b[0;34m:\u001b[0m\u001b[0;34m\u001b[0m\u001b[0;34m\u001b[0m\u001b[0m\n\u001b[0;32m---> 24\u001b[0;31m             \u001b[0mothers\u001b[0m\u001b[0;34m.\u001b[0m\u001b[0mappend\u001b[0m\u001b[0;34m(\u001b[0m\u001b[0mother\u001b[0m\u001b[0;34m,\u001b[0m \u001b[0mdistance\u001b[0m\u001b[0;34m[\u001b[0m\u001b[0mother\u001b[0m\u001b[0;34m]\u001b[0m\u001b[0;34m)\u001b[0m\u001b[0;34m\u001b[0m\u001b[0;34m\u001b[0m\u001b[0m\n\u001b[0m\u001b[1;32m     25\u001b[0m \u001b[0;34m\u001b[0m\u001b[0m\n\u001b[1;32m     26\u001b[0m         \u001b[0mx\u001b[0m \u001b[0;34m=\u001b[0m \u001b[0msorted\u001b[0m\u001b[0;34m(\u001b[0m\u001b[0mothers\u001b[0m\u001b[0;34m,\u001b[0m \u001b[0mkey\u001b[0m \u001b[0;34m=\u001b[0m \u001b[0mitemgetter\u001b[0m\u001b[0;34m(\u001b[0m\u001b[0;36m1\u001b[0m\u001b[0;34m)\u001b[0m\u001b[0;34m)\u001b[0m\u001b[0;34m[\u001b[0m\u001b[0;36m0\u001b[0m\u001b[0;34m]\u001b[0m\u001b[0;34m[\u001b[0m\u001b[0;36m0\u001b[0m\u001b[0;34m]\u001b[0m\u001b[0;34m\u001b[0m\u001b[0;34m\u001b[0m\u001b[0m\n",
      "\u001b[0;31mTypeError\u001b[0m: append() takes exactly one argument (2 given)"
     ]
    }
   ],
   "source": [
    "find_min_weight_path(graph1, \"A\",\"H\")"
   ]
  },
  {
   "cell_type": "code",
   "execution_count": null,
   "metadata": {},
   "outputs": [],
   "source": []
  },
  {
   "cell_type": "code",
   "execution_count": null,
   "metadata": {},
   "outputs": [],
   "source": []
  },
  {
   "cell_type": "code",
   "execution_count": null,
   "metadata": {},
   "outputs": [],
   "source": []
  },
  {
   "cell_type": "code",
   "execution_count": null,
   "metadata": {},
   "outputs": [],
   "source": []
  },
  {
   "cell_type": "code",
   "execution_count": null,
   "metadata": {},
   "outputs": [],
   "source": []
  }
 ],
 "metadata": {
  "kernelspec": {
   "display_name": "Python 3",
   "language": "python",
   "name": "python3"
  },
  "language_info": {
   "codemirror_mode": {
    "name": "ipython",
    "version": 3
   },
   "file_extension": ".py",
   "mimetype": "text/x-python",
   "name": "python",
   "nbconvert_exporter": "python",
   "pygments_lexer": "ipython3",
   "version": "3.8.3"
  }
 },
 "nbformat": 4,
 "nbformat_minor": 4
}
