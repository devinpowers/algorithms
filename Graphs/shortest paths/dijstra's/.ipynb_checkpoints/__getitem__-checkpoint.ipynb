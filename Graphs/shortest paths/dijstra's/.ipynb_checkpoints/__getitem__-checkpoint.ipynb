{
 "cells": [
  {
   "cell_type": "code",
   "execution_count": null,
   "metadata": {},
   "outputs": [],
   "source": []
  },
  {
   "cell_type": "code",
   "execution_count": 41,
   "metadata": {},
   "outputs": [],
   "source": [
    "class Graph:\n",
    "    \n",
    "    def __init__(self, Nodes, is_directed = False):\n",
    "        self.nodes = Nodes\n",
    "        self.adj_list = {}\n",
    "        \n",
    "        self.is_directed = is_directed\n",
    "\n",
    "        \n",
    "        for node in self.nodes:\n",
    "            self.adj_list[node] = {}\n",
    "        \n",
    "            \n",
    "    def add_edge(self, u, v, w):\n",
    "        \n",
    "        self.adj_list[u][v] = w\n",
    "        \n",
    "        if not self.is_directed:\n",
    "            \n",
    "            \n",
    "            self.adj_list[v][u] = w\n",
    "            \n",
    "    def __len__(self):\n",
    "        return len(nodes)\n",
    "        \n",
    "    def __getitem__(self,node):\n",
    "        \n",
    "        print(\"using getitem method\")\n",
    "        \"\"\"retrives items from out Node/vertex\"\"\"\n",
    "        \n",
    "        return  self.adj_list[node]\n",
    "    \n",
    "    def __iter__(self):\n",
    "        return iter(self.adj_list)\n",
    "\n",
    "    \n",
    "    def degree(self,node):\n",
    "        '''Total number of edges coming out a given node'''\n",
    "        deg = len(self.adj_list[node])\n",
    "        return deg\n",
    "    \n",
    "    def print_adj_list(self):\n",
    "        \n",
    "        for node in self.nodes:\n",
    "            print(node, \"->\", self.adj_list[node])\n",
    "    \n"
   ]
  },
  {
   "cell_type": "code",
   "execution_count": 42,
   "metadata": {},
   "outputs": [],
   "source": [
    "\n",
    "all_edges = [\n",
    "\n",
    "    (\"A\",\"B\", 5),(\"A\",\"C\", 4),(\"B\",\"D\", 6),(\"C\",\"D\", 8),\n",
    "    (\"C\",\"E\", 6),(\"D\",\"E\",7)\n",
    "]\n",
    "nodes = [\"A\",\"B\",\"C\",\"D\",\"E\"]\n",
    "\n"
   ]
  },
  {
   "cell_type": "code",
   "execution_count": 43,
   "metadata": {},
   "outputs": [],
   "source": [
    "graph1 = Graph(nodes)"
   ]
  },
  {
   "cell_type": "code",
   "execution_count": 44,
   "metadata": {},
   "outputs": [],
   "source": [
    "for u,v,w in all_edges:\n",
    "    graph1.add_edge(u,v,w)\n"
   ]
  },
  {
   "cell_type": "code",
   "execution_count": 45,
   "metadata": {},
   "outputs": [
    {
     "name": "stdout",
     "output_type": "stream",
     "text": [
      "A -> {'B': 5, 'C': 4}\n",
      "B -> {'A': 5, 'D': 6}\n",
      "C -> {'A': 4, 'D': 8, 'E': 6}\n",
      "D -> {'B': 6, 'C': 8, 'E': 7}\n",
      "E -> {'C': 6, 'D': 7}\n"
     ]
    }
   ],
   "source": [
    "graph1.print_adj_list()"
   ]
  },
  {
   "cell_type": "code",
   "execution_count": null,
   "metadata": {},
   "outputs": [],
   "source": []
  },
  {
   "cell_type": "code",
   "execution_count": null,
   "metadata": {},
   "outputs": [],
   "source": []
  },
  {
   "cell_type": "code",
   "execution_count": 48,
   "metadata": {},
   "outputs": [
    {
     "ename": "TypeError",
     "evalue": "__getitem__() missing 1 required positional argument: 'node2'",
     "output_type": "error",
     "traceback": [
      "\u001b[0;31m---------------------------------------------------------------------------\u001b[0m",
      "\u001b[0;31mTypeError\u001b[0m                                 Traceback (most recent call last)",
      "\u001b[0;32m<ipython-input-48-7af78f625268>\u001b[0m in \u001b[0;36m<module>\u001b[0;34m\u001b[0m\n\u001b[0;32m----> 1\u001b[0;31m \u001b[0;32mfor\u001b[0m \u001b[0mneighbor\u001b[0m\u001b[0;34m,\u001b[0m\u001b[0mweight\u001b[0m \u001b[0;32min\u001b[0m \u001b[0mgraph1\u001b[0m\u001b[0;34m[\u001b[0m\u001b[0;34m\"A\"\u001b[0m\u001b[0;34m]\u001b[0m\u001b[0;34m:\u001b[0m\u001b[0;34m\u001b[0m\u001b[0;34m\u001b[0m\u001b[0m\n\u001b[0m\u001b[1;32m      2\u001b[0m \u001b[0;34m\u001b[0m\u001b[0m\n\u001b[1;32m      3\u001b[0m     \u001b[0mprint\u001b[0m\u001b[0;34m(\u001b[0m\u001b[0mneighbor\u001b[0m\u001b[0;34m,\u001b[0m \u001b[0mweight\u001b[0m\u001b[0;34m)\u001b[0m\u001b[0;34m\u001b[0m\u001b[0;34m\u001b[0m\u001b[0m\n\u001b[1;32m      4\u001b[0m \u001b[0;34m\u001b[0m\u001b[0m\n",
      "\u001b[0;31mTypeError\u001b[0m: __getitem__() missing 1 required positional argument: 'node2'"
     ]
    }
   ],
   "source": [
    "for neighbor,weight in graph1[\"A\"]:\n",
    "    \n",
    "    print(neighbor, weight)\n",
    "    "
   ]
  },
  {
   "cell_type": "code",
   "execution_count": null,
   "metadata": {},
   "outputs": [],
   "source": []
  },
  {
   "cell_type": "code",
   "execution_count": null,
   "metadata": {},
   "outputs": [],
   "source": []
  },
  {
   "cell_type": "code",
   "execution_count": null,
   "metadata": {},
   "outputs": [],
   "source": []
  },
  {
   "cell_type": "code",
   "execution_count": null,
   "metadata": {},
   "outputs": [],
   "source": []
  }
 ],
 "metadata": {
  "kernelspec": {
   "display_name": "Python 3",
   "language": "python",
   "name": "python3"
  },
  "language_info": {
   "codemirror_mode": {
    "name": "ipython",
    "version": 3
   },
   "file_extension": ".py",
   "mimetype": "text/x-python",
   "name": "python",
   "nbconvert_exporter": "python",
   "pygments_lexer": "ipython3",
   "version": "3.8.3"
  }
 },
 "nbformat": 4,
 "nbformat_minor": 4
}
