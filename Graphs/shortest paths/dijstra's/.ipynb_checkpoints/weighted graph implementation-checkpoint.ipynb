{
 "cells": [
  {
   "cell_type": "code",
   "execution_count": null,
   "metadata": {},
   "outputs": [],
   "source": []
  },
  {
   "cell_type": "code",
   "execution_count": 1,
   "metadata": {},
   "outputs": [],
   "source": [
    "class Vertex(object):\n",
    "    def __init__(self, key):\n",
    "        self.key = key\n",
    "        self.neighbors = {}\n",
    "\n",
    "    def add_neighbor(self, neighbor, weight=0):\n",
    "        self.neighbors[neighbor] = weight\n",
    "\n",
    "    def __str__(self):\n",
    "        return '{} neighbors: {}'.format(\n",
    "            self.key,\n",
    "            [x.key for x in self.neighbors]\n",
    "        )\n",
    "\n",
    "    def get_connections(self):\n",
    "        return self.neighbors.keys()\n",
    "\n",
    "    def get_weight(self, neighbor):\n",
    "        return self.neighbors[neighbor]"
   ]
  },
  {
   "cell_type": "code",
   "execution_count": 2,
   "metadata": {},
   "outputs": [],
   "source": [
    "class Graph(object):\n",
    "    def __init__(self):\n",
    "        self.verticies = {}\n",
    "\n",
    "    def add_vertex(self, vertex):\n",
    "        self.verticies[vertex.key] = vertex\n",
    "\n",
    "    def get_vertex(self, key):\n",
    "        try:\n",
    "            return self.verticies[key]\n",
    "        except KeyError:\n",
    "            return None\n",
    "\n",
    "    def __contains__(self, key):\n",
    "        return key in self.verticies\n",
    "\n",
    "    def add_edge(self, from_key, to_key, weight=0):\n",
    "        if from_key not in self.verticies:\n",
    "            self.add_vertex(Vertex(from_key))\n",
    "        if to_key not in self.verticies:\n",
    "            self.add_vertex(Vertex(to_key))\n",
    "        self.verticies[from_key].add_neighbor(self.verticies[to_key], weight)\n",
    "\n",
    "    def get_vertices(self):\n",
    "        return self.verticies.keys()\n",
    "\n",
    "    def __iter__(self):\n",
    "        return iter(self.verticies.values())"
   ]
  },
  {
   "cell_type": "code",
   "execution_count": 3,
   "metadata": {},
   "outputs": [],
   "source": [
    "g = Graph()"
   ]
  },
  {
   "cell_type": "code",
   "execution_count": 4,
   "metadata": {},
   "outputs": [],
   "source": [
    "for i in range(6):\n",
    "    g.add_vertex(Vertex(i))"
   ]
  },
  {
   "cell_type": "code",
   "execution_count": 5,
   "metadata": {},
   "outputs": [
    {
     "data": {
      "text/plain": [
       "{0: <__main__.Vertex at 0x7f7fa5338be0>,\n",
       " 1: <__main__.Vertex at 0x7f7fa5338790>,\n",
       " 2: <__main__.Vertex at 0x7f7fa5338a00>,\n",
       " 3: <__main__.Vertex at 0x7f7fa5338880>,\n",
       " 4: <__main__.Vertex at 0x7f7fa5338730>,\n",
       " 5: <__main__.Vertex at 0x7f7fa5338e80>}"
      ]
     },
     "execution_count": 5,
     "metadata": {},
     "output_type": "execute_result"
    }
   ],
   "source": [
    "g.verticies"
   ]
  },
  {
   "cell_type": "code",
   "execution_count": 6,
   "metadata": {},
   "outputs": [],
   "source": [
    "g.add_edge(0, 1, 5)\n",
    "g.add_edge(0, 5, 2)\n",
    "g.add_edge(1, 2, 4)\n",
    "g.add_edge(2, 3, 9)\n",
    "g.add_edge(3, 4, 7)\n",
    "g.add_edge(3, 5, 3)\n",
    "g.add_edge(4, 0, 1)\n",
    "g.add_edge(5, 4, 8)\n",
    "g.add_edge(5, 2, 1)"
   ]
  },
  {
   "cell_type": "code",
   "execution_count": 7,
   "metadata": {},
   "outputs": [
    {
     "ename": "IndentationError",
     "evalue": "expected an indented block (<ipython-input-7-0a5f569048e0>, line 3)",
     "output_type": "error",
     "traceback": [
      "\u001b[0;36m  File \u001b[0;32m\"<ipython-input-7-0a5f569048e0>\"\u001b[0;36m, line \u001b[0;32m3\u001b[0m\n\u001b[0;31m    print('{} -> {}'.format(v.key, w.key))\u001b[0m\n\u001b[0m    ^\u001b[0m\n\u001b[0;31mIndentationError\u001b[0m\u001b[0;31m:\u001b[0m expected an indented block\n"
     ]
    }
   ],
   "source": [
    "for v in g:\n",
    "    for w in v.get_connections():\n",
    "        \n",
    "        print('{} -> {}'.format(v.key, w.key))\n",
    "    "
   ]
  },
  {
   "cell_type": "code",
   "execution_count": null,
   "metadata": {},
   "outputs": [],
   "source": []
  }
 ],
 "metadata": {
  "kernelspec": {
   "display_name": "Python 3",
   "language": "python",
   "name": "python3"
  },
  "language_info": {
   "codemirror_mode": {
    "name": "ipython",
    "version": 3
   },
   "file_extension": ".py",
   "mimetype": "text/x-python",
   "name": "python",
   "nbconvert_exporter": "python",
   "pygments_lexer": "ipython3",
   "version": "3.8.3"
  }
 },
 "nbformat": 4,
 "nbformat_minor": 4
}
