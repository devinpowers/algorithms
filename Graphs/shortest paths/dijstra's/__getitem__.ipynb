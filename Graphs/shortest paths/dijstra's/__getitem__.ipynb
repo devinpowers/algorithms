{
 "cells": [
  {
   "cell_type": "code",
   "execution_count": null,
   "metadata": {},
   "outputs": [],
   "source": []
  },
  {
   "cell_type": "code",
   "execution_count": 231,
   "metadata": {},
   "outputs": [],
   "source": [
    "class Graph:\n",
    "    \n",
    "    def __init__(self, Nodes, is_directed = False):\n",
    "        self.nodes = Nodes\n",
    "        self.adj_list = {}\n",
    "        \n",
    "        self.is_directed = is_directed\n",
    "\n",
    "        \n",
    "        for node in self.nodes:\n",
    "            self.adj_list[node] = {}\n",
    "        \n",
    "            \n",
    "    def add_edge(self, u, v, w):\n",
    "        \n",
    "        self.adj_list[u][v] = w\n",
    "        \n",
    "        if not self.is_directed:\n",
    "            \n",
    "            self.adj_list[v][u] = w\n",
    "            \n",
    "    def __len__(self):\n",
    "        return len(nodes)\n",
    "        \n",
    "    def __getitem__(self,node):\n",
    "        \n",
    "        return  self.adj_list[node]\n",
    "        \n",
    "    def __iter__(self):\n",
    "        return iter(self.adj_list)\n",
    "\n",
    "    \n",
    "    def degree(self,node):\n",
    "        '''Total number of edges coming out a given node'''\n",
    "        return len(self.adj_list[node])\n",
    "    \n",
    "    def print_adj_list(self):\n",
    "        \n",
    "        for node in self.nodes:\n",
    "            print(node, \"->\", self.adj_list[node])\n",
    "    \n"
   ]
  },
  {
   "cell_type": "code",
   "execution_count": 232,
   "metadata": {},
   "outputs": [],
   "source": [
    "\n",
    "all_edges = [\n",
    "\n",
    "    (\"A\",\"B\", 3),(\"A\",\"C\", 4),(\"B\",\"D\", 6),(\"C\",\"D\", 8),\n",
    "    (\"C\",\"E\", 6),(\"D\",\"E\",7)\n",
    "]\n",
    "nodes = [\"A\",\"B\",\"C\",\"D\",\"E\"]\n",
    "\n"
   ]
  },
  {
   "cell_type": "code",
   "execution_count": 233,
   "metadata": {},
   "outputs": [],
   "source": [
    "graph1 = Graph(nodes)"
   ]
  },
  {
   "cell_type": "code",
   "execution_count": 234,
   "metadata": {},
   "outputs": [],
   "source": [
    "for u,v,w in all_edges:\n",
    "    graph1.add_edge(u,v,w)\n"
   ]
  },
  {
   "cell_type": "code",
   "execution_count": 235,
   "metadata": {
    "scrolled": true
   },
   "outputs": [
    {
     "name": "stdout",
     "output_type": "stream",
     "text": [
      "A -> {'B': 3, 'C': 4}\n",
      "B -> {'A': 3, 'D': 6}\n",
      "C -> {'A': 4, 'D': 8, 'E': 6}\n",
      "D -> {'B': 6, 'C': 8, 'E': 7}\n",
      "E -> {'C': 6, 'D': 7}\n"
     ]
    }
   ],
   "source": [
    "graph1.print_adj_list()"
   ]
  },
  {
   "cell_type": "code",
   "execution_count": 236,
   "metadata": {},
   "outputs": [
    {
     "name": "stdout",
     "output_type": "stream",
     "text": [
      "A\n",
      "B\n",
      "C\n",
      "D\n",
      "E\n"
     ]
    }
   ],
   "source": [
    "for vertex in graph1:\n",
    "    print(vertex)"
   ]
  },
  {
   "cell_type": "code",
   "execution_count": null,
   "metadata": {},
   "outputs": [],
   "source": []
  },
  {
   "cell_type": "code",
   "execution_count": null,
   "metadata": {},
   "outputs": [],
   "source": [
    "\n"
   ]
  },
  {
   "cell_type": "code",
   "execution_count": null,
   "metadata": {},
   "outputs": [],
   "source": []
  },
  {
   "cell_type": "code",
   "execution_count": null,
   "metadata": {},
   "outputs": [],
   "source": [
    "for neighbor, weight in graph[current_vertex]:"
   ]
  },
  {
   "cell_type": "code",
   "execution_count": null,
   "metadata": {},
   "outputs": [],
   "source": []
  },
  {
   "cell_type": "code",
   "execution_count": 190,
   "metadata": {},
   "outputs": [
    {
     "name": "stdout",
     "output_type": "stream",
     "text": [
      "Edge: B weight: 3\n",
      "Edge: C weight: 4\n"
     ]
    }
   ],
   "source": [
    "for edge, weight in graph1[\"A\"].items():\n",
    "    print(edge, weight)\n",
    "    "
   ]
  },
  {
   "cell_type": "code",
   "execution_count": null,
   "metadata": {},
   "outputs": [],
   "source": []
  },
  {
   "cell_type": "code",
   "execution_count": 283,
   "metadata": {},
   "outputs": [],
   "source": [
    "import heapq\n",
    "\n",
    "def calculate_distances(graph, starting_vertex):\n",
    "    distances = {}\n",
    "    distances = {vertex: float('infinity') for vertex in graph}\n",
    "    \n",
    "    distances[starting_vertex] = 0\n",
    "    \n",
    "    \n",
    "    ## Priority Queue\n",
    "    pq = [(0, starting_vertex)]\n",
    "    \n",
    "    \n",
    "    while len(pq) > 0:\n",
    "        \n",
    "        print(\"Current Priority Queue:\",pq)\n",
    "        \n",
    "        current_distance, current_vertex = heapq.heappop(pq)\n",
    "        \n",
    "\n",
    "        # Nodes can get added to the priority queue multiple times. We only\n",
    "        # process a vertex the first time we remove it from the priority queue.\n",
    "        \n",
    "        if current_distance > distances[current_vertex]:\n",
    "            continue\n",
    "\n",
    "        for neighbor, weight in graph[current_vertex].items():\n",
    "            distance = current_distance + weight\n",
    "\n",
    "            # Only consider this new path if it's better than any path we've\n",
    "            # already found.\n",
    "            if distance < distances[neighbor]:\n",
    "                distances[neighbor] = distance\n",
    "                print(\"Distance:\", distance)\n",
    "                print(\"Neighbor:\", neighbor)\n",
    "                print(\"Next\")\n",
    "                heapq.heappush(pq, (distance, neighbor))\n",
    "                \n",
    "                print(\"Priority Q now: \", pq)\n",
    "\n",
    "    return distances\n"
   ]
  },
  {
   "cell_type": "code",
   "execution_count": 284,
   "metadata": {},
   "outputs": [
    {
     "name": "stdout",
     "output_type": "stream",
     "text": [
      "Current Priority Queue: [(0, 'A')]\n",
      "Distance: 3\n",
      "Neighbor: B\n",
      "Next\n",
      "Priority Q now:  [(3, 'B')]\n",
      "Distance: 4\n",
      "Neighbor: C\n",
      "Next\n",
      "Priority Q now:  [(3, 'B'), (4, 'C')]\n",
      "Current Priority Queue: [(3, 'B'), (4, 'C')]\n",
      "Distance: 9\n",
      "Neighbor: D\n",
      "Next\n",
      "Priority Q now:  [(4, 'C'), (9, 'D')]\n",
      "Current Priority Queue: [(4, 'C'), (9, 'D')]\n",
      "Distance: 10\n",
      "Neighbor: E\n",
      "Next\n",
      "Priority Q now:  [(9, 'D'), (10, 'E')]\n",
      "Current Priority Queue: [(9, 'D'), (10, 'E')]\n",
      "Current Priority Queue: [(10, 'E')]\n"
     ]
    },
    {
     "data": {
      "text/plain": [
       "{'A': 0, 'B': 3, 'C': 4, 'D': 9, 'E': 10}"
      ]
     },
     "execution_count": 284,
     "metadata": {},
     "output_type": "execute_result"
    }
   ],
   "source": [
    "calculate_distances(graph1, \"A\")"
   ]
  },
  {
   "cell_type": "code",
   "execution_count": null,
   "metadata": {},
   "outputs": [],
   "source": []
  },
  {
   "cell_type": "code",
   "execution_count": null,
   "metadata": {},
   "outputs": [],
   "source": []
  },
  {
   "cell_type": "code",
   "execution_count": null,
   "metadata": {},
   "outputs": [],
   "source": []
  },
  {
   "cell_type": "code",
   "execution_count": null,
   "metadata": {},
   "outputs": [],
   "source": []
  },
  {
   "cell_type": "code",
   "execution_count": null,
   "metadata": {},
   "outputs": [],
   "source": []
  },
  {
   "cell_type": "code",
   "execution_count": null,
   "metadata": {},
   "outputs": [],
   "source": []
  },
  {
   "cell_type": "code",
   "execution_count": null,
   "metadata": {},
   "outputs": [],
   "source": []
  },
  {
   "cell_type": "code",
   "execution_count": null,
   "metadata": {},
   "outputs": [],
   "source": []
  },
  {
   "cell_type": "code",
   "execution_count": null,
   "metadata": {},
   "outputs": [],
   "source": []
  },
  {
   "cell_type": "code",
   "execution_count": 219,
   "metadata": {},
   "outputs": [],
   "source": []
  },
  {
   "cell_type": "code",
   "execution_count": 220,
   "metadata": {},
   "outputs": [],
   "source": []
  },
  {
   "cell_type": "code",
   "execution_count": 221,
   "metadata": {},
   "outputs": [],
   "source": []
  },
  {
   "cell_type": "code",
   "execution_count": 222,
   "metadata": {},
   "outputs": [],
   "source": []
  },
  {
   "cell_type": "code",
   "execution_count": null,
   "metadata": {},
   "outputs": [],
   "source": []
  },
  {
   "cell_type": "code",
   "execution_count": null,
   "metadata": {},
   "outputs": [],
   "source": []
  },
  {
   "cell_type": "code",
   "execution_count": null,
   "metadata": {},
   "outputs": [],
   "source": []
  },
  {
   "cell_type": "code",
   "execution_count": null,
   "metadata": {},
   "outputs": [],
   "source": []
  },
  {
   "cell_type": "code",
   "execution_count": null,
   "metadata": {},
   "outputs": [],
   "source": []
  },
  {
   "cell_type": "code",
   "execution_count": null,
   "metadata": {},
   "outputs": [],
   "source": []
  },
  {
   "cell_type": "code",
   "execution_count": null,
   "metadata": {},
   "outputs": [],
   "source": []
  },
  {
   "cell_type": "code",
   "execution_count": null,
   "metadata": {},
   "outputs": [],
   "source": []
  },
  {
   "cell_type": "code",
   "execution_count": null,
   "metadata": {},
   "outputs": [],
   "source": []
  },
  {
   "cell_type": "code",
   "execution_count": null,
   "metadata": {},
   "outputs": [],
   "source": []
  },
  {
   "cell_type": "code",
   "execution_count": null,
   "metadata": {},
   "outputs": [],
   "source": []
  },
  {
   "cell_type": "code",
   "execution_count": null,
   "metadata": {},
   "outputs": [],
   "source": []
  },
  {
   "cell_type": "code",
   "execution_count": null,
   "metadata": {},
   "outputs": [],
   "source": []
  },
  {
   "cell_type": "code",
   "execution_count": null,
   "metadata": {},
   "outputs": [],
   "source": []
  }
 ],
 "metadata": {
  "kernelspec": {
   "display_name": "Python 3",
   "language": "python",
   "name": "python3"
  },
  "language_info": {
   "codemirror_mode": {
    "name": "ipython",
    "version": 3
   },
   "file_extension": ".py",
   "mimetype": "text/x-python",
   "name": "python",
   "nbconvert_exporter": "python",
   "pygments_lexer": "ipython3",
   "version": "3.8.3"
  }
 },
 "nbformat": 4,
 "nbformat_minor": 4
}
