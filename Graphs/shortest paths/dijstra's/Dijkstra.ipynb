{
 "cells": [
  {
   "cell_type": "code",
   "execution_count": null,
   "metadata": {},
   "outputs": [],
   "source": []
  },
  {
   "cell_type": "markdown",
   "metadata": {},
   "source": [
    "## Graph With Nodes, Edges, and thier Weights"
   ]
  },
  {
   "cell_type": "code",
   "execution_count": 10,
   "metadata": {},
   "outputs": [],
   "source": [
    "class Graph:\n",
    "    \n",
    "    def __init__(self, Nodes, is_directed = False):\n",
    "        self.nodes = Nodes\n",
    "        self.adj_list = {}\n",
    "        \n",
    "        self.is_directed = is_directed\n",
    "\n",
    "        \n",
    "        for node in self.nodes:\n",
    "            self.adj_list[node] = {}\n",
    "        \n",
    "            \n",
    "    def add_edge(self, u, v, w):\n",
    "        \n",
    "        self.adj_list[u][v] = w\n",
    "        \n",
    "        if not self.is_directed:\n",
    "            \n",
    "            \n",
    "            self.adj_list[v][u] = w\n",
    "            \n",
    "    def __len__(self):\n",
    "        return len(nodes)\n",
    "        \n",
    "    def __getitem__(self,node):\n",
    "            \n",
    "        return  self.adj_list[node]\n",
    "            \n",
    "    def __iter__(self):\n",
    "        return iter(self.adj_list)\n",
    "\n",
    "    \n",
    "    def degree(self,node):\n",
    "        '''Total number of edges coming out a given node'''\n",
    "        return  len(self.adj_list[node])\n",
    "        \n",
    "    \n",
    "    def print_adj_list(self):\n",
    "        \n",
    "        for node in self.nodes:\n",
    "            print(node, \"->\", self.adj_list[node])"
   ]
  },
  {
   "cell_type": "code",
   "execution_count": null,
   "metadata": {},
   "outputs": [],
   "source": []
  },
  {
   "cell_type": "code",
   "execution_count": 11,
   "metadata": {},
   "outputs": [],
   "source": [
    "all_edges = [\n",
    "\n",
    "    (\"A\",\"B\", 3),(\"A\",\"C\", 4),(\"A\",\"D\", 7),(\"C\",\"D\", 2),\n",
    "    (\"C\",\"B\", 1),(\"C\",\"F\",6),(\"B\",\"F\", 5),(\"F\",\"E\", 1),\n",
    "    (\"D\",\"E\", 3),(\"E\",\"G\", 3),(\"E\",\"H\", 4),(\"F\",\"H\", 8),\n",
    "    (\"D\",\"G\", 6),(\"E\",\"F\", 1),(\"G\",\"H\", 2)\n",
    "]\n",
    "nodes = [\"A\",\"B\",\"C\",\"D\",\"E\",\"F\",\"G\",\"H\"]\n",
    "\n",
    "graph1 = Graph(nodes)\n",
    "\n",
    "for u,v,w in all_edges:\n",
    "    graph1.add_edge(u,v,w)"
   ]
  },
  {
   "cell_type": "code",
   "execution_count": 12,
   "metadata": {},
   "outputs": [
    {
     "name": "stdout",
     "output_type": "stream",
     "text": [
      "A -> {'B': 3, 'C': 4, 'D': 7}\n",
      "B -> {'A': 3, 'C': 1, 'F': 5}\n",
      "C -> {'A': 4, 'D': 2, 'B': 1, 'F': 6}\n",
      "D -> {'A': 7, 'C': 2, 'E': 3, 'G': 6}\n",
      "E -> {'F': 1, 'D': 3, 'G': 3, 'H': 4}\n",
      "F -> {'C': 6, 'B': 5, 'E': 1, 'H': 8}\n",
      "G -> {'E': 3, 'D': 6, 'H': 2}\n",
      "H -> {'E': 4, 'F': 8, 'G': 2}\n"
     ]
    }
   ],
   "source": [
    "graph1.print_adj_list()\n"
   ]
  },
  {
   "cell_type": "code",
   "execution_count": 13,
   "metadata": {},
   "outputs": [
    {
     "data": {
      "text/plain": [
       "3"
      ]
     },
     "execution_count": 13,
     "metadata": {},
     "output_type": "execute_result"
    }
   ],
   "source": [
    "graph1.degree(\"A\")"
   ]
  },
  {
   "cell_type": "code",
   "execution_count": 17,
   "metadata": {},
   "outputs": [
    {
     "data": {
      "text/plain": [
       "4"
      ]
     },
     "execution_count": 17,
     "metadata": {},
     "output_type": "execute_result"
    }
   ],
   "source": [
    "graph1.degree(\"E\")"
   ]
  },
  {
   "cell_type": "code",
   "execution_count": null,
   "metadata": {},
   "outputs": [],
   "source": []
  },
  {
   "cell_type": "code",
   "execution_count": null,
   "metadata": {},
   "outputs": [],
   "source": []
  },
  {
   "cell_type": "code",
   "execution_count": null,
   "metadata": {},
   "outputs": [],
   "source": []
  },
  {
   "cell_type": "code",
   "execution_count": null,
   "metadata": {},
   "outputs": [],
   "source": []
  },
  {
   "cell_type": "code",
   "execution_count": null,
   "metadata": {},
   "outputs": [],
   "source": []
  },
  {
   "cell_type": "code",
   "execution_count": 4,
   "metadata": {},
   "outputs": [],
   "source": [
    "\n",
    "import heapq\n",
    "\n",
    "def Dijkstras(graph, starting_vertex):\n",
    "    distances = {}\n",
    "    distances = {vertex: float('infinity') for vertex in graph}\n",
    "\n",
    "    distances[starting_vertex] = 0\n",
    "\n",
    "    pq = [(0, starting_vertex)]\n",
    "\n",
    "\n",
    "    while len(pq) > 0:\n",
    "\n",
    "\n",
    "        current_distance, current_vertex = heapq.heappop(pq)\n",
    "        \n",
    "        if current_distance > distances[current_vertex]:\n",
    "            continue\n",
    "\n",
    "        for neighbor, weight in graph[current_vertex].items():\n",
    "            distance = current_distance + weight\n",
    "           \n",
    "            if distance < distances[neighbor]:\n",
    "                distances[neighbor] = distance\n",
    "                \n",
    "               \n",
    "                heapq.heappush(pq, (distance, neighbor))\n",
    "\n",
    "    return distances\n"
   ]
  },
  {
   "cell_type": "code",
   "execution_count": null,
   "metadata": {},
   "outputs": [],
   "source": []
  },
  {
   "cell_type": "code",
   "execution_count": 5,
   "metadata": {},
   "outputs": [
    {
     "data": {
      "text/plain": [
       "{'A': 0, 'B': 3, 'C': 4, 'D': 6, 'E': 9, 'F': 8, 'G': 12, 'H': 13}"
      ]
     },
     "execution_count": 5,
     "metadata": {},
     "output_type": "execute_result"
    }
   ],
   "source": [
    "Dijkstras(graph1, \"A\")\n"
   ]
  },
  {
   "cell_type": "code",
   "execution_count": null,
   "metadata": {},
   "outputs": [],
   "source": []
  },
  {
   "cell_type": "code",
   "execution_count": null,
   "metadata": {},
   "outputs": [],
   "source": [
    "\n"
   ]
  },
  {
   "cell_type": "code",
   "execution_count": null,
   "metadata": {},
   "outputs": [],
   "source": []
  },
  {
   "cell_type": "code",
   "execution_count": null,
   "metadata": {},
   "outputs": [],
   "source": []
  },
  {
   "cell_type": "code",
   "execution_count": null,
   "metadata": {},
   "outputs": [],
   "source": []
  },
  {
   "cell_type": "code",
   "execution_count": null,
   "metadata": {},
   "outputs": [],
   "source": []
  },
  {
   "cell_type": "code",
   "execution_count": null,
   "metadata": {},
   "outputs": [],
   "source": []
  },
  {
   "cell_type": "code",
   "execution_count": null,
   "metadata": {},
   "outputs": [],
   "source": []
  },
  {
   "cell_type": "code",
   "execution_count": null,
   "metadata": {},
   "outputs": [],
   "source": []
  },
  {
   "cell_type": "code",
   "execution_count": null,
   "metadata": {},
   "outputs": [],
   "source": []
  },
  {
   "cell_type": "code",
   "execution_count": null,
   "metadata": {},
   "outputs": [],
   "source": []
  },
  {
   "cell_type": "code",
   "execution_count": null,
   "metadata": {},
   "outputs": [],
   "source": []
  }
 ],
 "metadata": {
  "kernelspec": {
   "display_name": "Python 3",
   "language": "python",
   "name": "python3"
  },
  "language_info": {
   "codemirror_mode": {
    "name": "ipython",
    "version": 3
   },
   "file_extension": ".py",
   "mimetype": "text/x-python",
   "name": "python",
   "nbconvert_exporter": "python",
   "pygments_lexer": "ipython3",
   "version": "3.8.3"
  }
 },
 "nbformat": 4,
 "nbformat_minor": 4
}
