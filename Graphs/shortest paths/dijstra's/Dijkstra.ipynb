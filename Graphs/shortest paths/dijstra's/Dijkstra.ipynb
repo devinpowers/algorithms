{
 "cells": [
  {
   "cell_type": "code",
   "execution_count": null,
   "metadata": {},
   "outputs": [],
   "source": []
  },
  {
   "cell_type": "markdown",
   "metadata": {},
   "source": [
    "## Graph With Nodes, Edges, and thier Weights"
   ]
  },
  {
   "cell_type": "code",
   "execution_count": 1,
   "metadata": {},
   "outputs": [],
   "source": [
    "class Graph:\n",
    "    \n",
    "    def __init__(self, Nodes, is_directed = False):\n",
    "        self.nodes = Nodes\n",
    "        self.adj_list = {}\n",
    "        \n",
    "        self.is_directed = is_directed\n",
    "\n",
    "        \n",
    "        for node in self.nodes:\n",
    "            self.adj_list[node] = {}\n",
    "        \n",
    "            \n",
    "    def add_edge(self, u, v, w):\n",
    "        \n",
    "        self.adj_list[u][v] = w\n",
    "        \n",
    "        if not self.is_directed:\n",
    "            \n",
    "            \n",
    "            self.adj_list[v][u] = w\n",
    "            \n",
    "    def __len__(self):\n",
    "        return len(nodes)\n",
    "        \n",
    "    def __getitem__(self,node):\n",
    "            \n",
    "        return  self.adj_list[node]\n",
    "            \n",
    "    def __iter__(self):\n",
    "        return iter(self.adj_list)\n",
    "\n",
    "    \n",
    "    def degree(self,node):\n",
    "        '''Total number of edges coming out a given node'''\n",
    "        deg = len(self.adj_list[node])\n",
    "        return deg\n",
    "    \n",
    "    def print_adj_list(self):\n",
    "        \n",
    "        for node in self.nodes:\n",
    "            print(node, \"->\", self.adj_list[node])"
   ]
  },
  {
   "cell_type": "code",
   "execution_count": null,
   "metadata": {},
   "outputs": [],
   "source": []
  },
  {
   "cell_type": "code",
   "execution_count": 4,
   "metadata": {},
   "outputs": [],
   "source": [
    "all_edges = [\n",
    "\n",
    "    (\"A\",\"B\", 4),(\"A\",\"C\", 1),(\"B\",\"D\", 1),(\"C\",\"D\", 5),\n",
    "    (\"C\",\"B\", 2),(\"D\",\"E\",3)\n",
    "]\n",
    "nodes = [\"A\",\"B\",\"C\",\"D\",\"E\"]\n",
    "\n",
    "graph1 = Graph(nodes)\n",
    "\n",
    "for u,v,w in all_edges:\n",
    "    graph1.add_edge(u,v,w)"
   ]
  },
  {
   "cell_type": "code",
   "execution_count": 5,
   "metadata": {},
   "outputs": [
    {
     "name": "stdout",
     "output_type": "stream",
     "text": [
      "A -> {'B': 4, 'C': 1}\n",
      "B -> {'A': 4, 'D': 1, 'C': 2}\n",
      "C -> {'A': 1, 'D': 5, 'B': 2}\n",
      "D -> {'B': 1, 'C': 5, 'E': 3}\n",
      "E -> {'D': 3}\n"
     ]
    }
   ],
   "source": [
    "graph1.print_adj_list()\n"
   ]
  },
  {
   "cell_type": "code",
   "execution_count": null,
   "metadata": {},
   "outputs": [],
   "source": []
  },
  {
   "cell_type": "code",
   "execution_count": 16,
   "metadata": {},
   "outputs": [],
   "source": [
    "\n",
    "import heapq\n",
    "\n",
    "def Dijkstras(graph, starting_vertex):\n",
    "    distances = {}\n",
    "    distances = {vertex: float('infinity') for vertex in graph}\n",
    "\n",
    "    distances[starting_vertex] = 0\n",
    "\n",
    "    pq = [(0, starting_vertex)]\n",
    "\n",
    "\n",
    "    while len(pq) > 0:\n",
    "\n",
    "\n",
    "        current_distance, current_vertex = heapq.heappop(pq)\n",
    "        \n",
    "        if current_distance > distances[current_vertex]:\n",
    "            continue\n",
    "\n",
    "        for neighbor, weight in graph[current_vertex].items():\n",
    "            distance = current_distance + weight\n",
    "           \n",
    "            if distance < distances[neighbor]:\n",
    "                distances[neighbor] = distance\n",
    "                \n",
    "               \n",
    "                heapq.heappush(pq, (distance, neighbor))\n",
    "\n",
    "    return distances\n"
   ]
  },
  {
   "cell_type": "code",
   "execution_count": null,
   "metadata": {},
   "outputs": [],
   "source": []
  },
  {
   "cell_type": "code",
   "execution_count": 17,
   "metadata": {},
   "outputs": [
    {
     "data": {
      "text/plain": [
       "{'A': 0, 'B': 3, 'C': 1, 'D': 4, 'E': 7}"
      ]
     },
     "execution_count": 17,
     "metadata": {},
     "output_type": "execute_result"
    }
   ],
   "source": [
    "Dijkstras(graph1, \"A\")\n"
   ]
  },
  {
   "cell_type": "code",
   "execution_count": null,
   "metadata": {},
   "outputs": [],
   "source": []
  },
  {
   "cell_type": "code",
   "execution_count": null,
   "metadata": {},
   "outputs": [],
   "source": [
    "\n"
   ]
  },
  {
   "cell_type": "code",
   "execution_count": null,
   "metadata": {},
   "outputs": [],
   "source": []
  },
  {
   "cell_type": "code",
   "execution_count": null,
   "metadata": {},
   "outputs": [],
   "source": []
  },
  {
   "cell_type": "code",
   "execution_count": null,
   "metadata": {},
   "outputs": [],
   "source": []
  },
  {
   "cell_type": "code",
   "execution_count": null,
   "metadata": {},
   "outputs": [],
   "source": []
  },
  {
   "cell_type": "code",
   "execution_count": null,
   "metadata": {},
   "outputs": [],
   "source": []
  },
  {
   "cell_type": "code",
   "execution_count": null,
   "metadata": {},
   "outputs": [],
   "source": []
  },
  {
   "cell_type": "code",
   "execution_count": null,
   "metadata": {},
   "outputs": [],
   "source": []
  },
  {
   "cell_type": "code",
   "execution_count": null,
   "metadata": {},
   "outputs": [],
   "source": []
  },
  {
   "cell_type": "code",
   "execution_count": null,
   "metadata": {},
   "outputs": [],
   "source": []
  },
  {
   "cell_type": "code",
   "execution_count": null,
   "metadata": {},
   "outputs": [],
   "source": []
  }
 ],
 "metadata": {
  "kernelspec": {
   "display_name": "Python 3",
   "language": "python",
   "name": "python3"
  },
  "language_info": {
   "codemirror_mode": {
    "name": "ipython",
    "version": 3
   },
   "file_extension": ".py",
   "mimetype": "text/x-python",
   "name": "python",
   "nbconvert_exporter": "python",
   "pygments_lexer": "ipython3",
   "version": "3.8.3"
  }
 },
 "nbformat": 4,
 "nbformat_minor": 4
}
