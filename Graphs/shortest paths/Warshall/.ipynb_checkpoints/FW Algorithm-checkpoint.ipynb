{
 "cells": [
  {
   "cell_type": "markdown",
   "metadata": {},
   "source": [
    "## use a matrix graph representation"
   ]
  },
  {
   "cell_type": "code",
   "execution_count": 2,
   "metadata": {},
   "outputs": [],
   "source": [
    "class Graph():\n",
    "    \n",
    "    def __init__(self, matrix_size):\n",
    "        self.matrix = []\n",
    "        self.matrix_size = matrix_size\n",
    "        \n",
    "        # add to our matrix using the size passed in\n",
    "        \n",
    "        for i in range(matrix_size):\n",
    "            self.matrix.append([0 for i in  range(matrix_size)])\n",
    "    \n",
    "    #def print_matrix(self):\n",
    "     #   \"\"\"Prints our matrix out\"\"\"\n",
    "        \n",
    "     #   for row in self.matrix:\n",
    "      #      print(row)\n",
    "            \n",
    "    def __repr__(self):\n",
    "        \n",
    "        return repr(self.matrix)\n",
    "    \n",
    "    def size(self):\n",
    "        \"\"\"Returns Size of the Matrix\"\"\"\n",
    "        return self.matrix_size\n",
    "    \n",
    "    def add_edge(self, vertex_1, vertex_2):\n",
    "        \n",
    "        if vertex_1 == vertex_2:\n",
    "            print(\"Same vertex passed in!\")\n",
    "            return\n",
    "        \n",
    "        self.matrix[vertex_1][vertex_2] = 1\n",
    "        self.matrix[vertex_2][vertex_1] = 1\n",
    "\n",
    "    \n",
    "    def remove_edge(self, vertex_1, vertex_2):\n",
    "        \n",
    "        if self.matrix[vertex_1][vertex_2] == 0:\n",
    "            print(\"No edge exisited between the 2\")\n",
    "            return\n",
    "        \n",
    "        self.matrix[vertex_1][vertex_2] = 0\n",
    "        self.matrix[vertex_2][vertex_1] = 0\n",
    "    \n",
    "    \n",
    "\n",
    "        \n",
    "        "
   ]
  },
  {
   "cell_type": "code",
   "execution_count": null,
   "metadata": {},
   "outputs": [],
   "source": []
  },
  {
   "cell_type": "code",
   "execution_count": null,
   "metadata": {},
   "outputs": [],
   "source": []
  },
  {
   "cell_type": "code",
   "execution_count": null,
   "metadata": {},
   "outputs": [],
   "source": []
  },
  {
   "cell_type": "code",
   "execution_count": null,
   "metadata": {},
   "outputs": [],
   "source": []
  },
  {
   "cell_type": "code",
   "execution_count": null,
   "metadata": {},
   "outputs": [],
   "source": []
  },
  {
   "cell_type": "code",
   "execution_count": null,
   "metadata": {},
   "outputs": [],
   "source": []
  },
  {
   "cell_type": "code",
   "execution_count": null,
   "metadata": {},
   "outputs": [],
   "source": []
  },
  {
   "cell_type": "code",
   "execution_count": null,
   "metadata": {},
   "outputs": [],
   "source": []
  },
  {
   "cell_type": "code",
   "execution_count": null,
   "metadata": {},
   "outputs": [],
   "source": []
  },
  {
   "cell_type": "code",
   "execution_count": null,
   "metadata": {},
   "outputs": [],
   "source": []
  }
 ],
 "metadata": {
  "kernelspec": {
   "display_name": "Python 3",
   "language": "python",
   "name": "python3"
  },
  "language_info": {
   "codemirror_mode": {
    "name": "ipython",
    "version": 3
   },
   "file_extension": ".py",
   "mimetype": "text/x-python",
   "name": "python",
   "nbconvert_exporter": "python",
   "pygments_lexer": "ipython3",
   "version": "3.8.3"
  }
 },
 "nbformat": 4,
 "nbformat_minor": 4
}
