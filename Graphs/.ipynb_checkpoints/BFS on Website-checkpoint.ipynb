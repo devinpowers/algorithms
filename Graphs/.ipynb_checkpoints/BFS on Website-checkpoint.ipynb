{
 "cells": [
  {
   "cell_type": "code",
   "execution_count": null,
   "metadata": {},
   "outputs": [],
   "source": []
  },
  {
   "cell_type": "markdown",
   "metadata": {},
   "source": [
    "## Queue Class"
   ]
  },
  {
   "cell_type": "code",
   "execution_count": 6,
   "metadata": {},
   "outputs": [],
   "source": [
    "\n",
    "class Queue:\n",
    "\n",
    "    def __init__(self):\n",
    "        self.queue = []\n",
    "        self._size = 0\n",
    "\n",
    "    def enqueue(self, item):\n",
    "        self.queue.append(item)\n",
    "\n",
    "    def dequeue(self):\n",
    "        if len(self.queue) < 1:\n",
    "            return None\n",
    "        return self.queue.pop(0)\n",
    "\n",
    "    def size(self):\n",
    "        return len(self.queue) \n",
    "    \n",
    "    def is_empty(self):\n",
    "        \"Return True if the queue is empty\"\n",
    "        return self._size == 0\n",
    "    \n",
    "    \n",
    "  def is_empty(self):\n",
    "    \"\"\"Return True if the queue is empty.\"\"\"\n",
    "    return self._size == 0"
   ]
  },
  {
   "cell_type": "code",
   "execution_count": null,
   "metadata": {},
   "outputs": [],
   "source": []
  },
  {
   "cell_type": "code",
   "execution_count": null,
   "metadata": {},
   "outputs": [],
   "source": []
  },
  {
   "cell_type": "code",
   "execution_count": 1,
   "metadata": {},
   "outputs": [],
   "source": [
    "class Graph:\n",
    "    \n",
    "    def __init__(self, Nodes, is_directed = False):\n",
    "        self.nodes = Nodes\n",
    "        self.adj_list = {}\n",
    "        \n",
    "        self.is_directed = is_directed\n",
    "        \n",
    "        for node in self.nodes:\n",
    "            self.adj_list[node] = []\n",
    "            \n",
    "    def add_edge(self, u, v):\n",
    "        self.adj_list[u].append(v)\n",
    "        \n",
    "        if not self.is_directed:\n",
    "            \n",
    "            self.adj_list[v].append(u)\n",
    "        \n",
    "    \n",
    "    def degree(self,node):\n",
    "        '''Total number of edges coming out a given node'''\n",
    "        deg = len(self.adj_list[node])\n",
    "        return deg\n",
    "    \n",
    "    def print_adj_list(self):\n",
    "        \n",
    "        for node in self.nodes:\n",
    "            print(node, \"->\", self.adj_list[node])\n",
    "    \n",
    "    def __getitem__(self, node):\n",
    "        \n",
    "        \"\"\"retrives items from out Node/vertex\"\"\"\n",
    "        \n",
    "        return  self.adj_list[node]\n",
    "            "
   ]
  },
  {
   "cell_type": "markdown",
   "metadata": {},
   "source": [
    "#### create a graph"
   ]
  },
  {
   "cell_type": "code",
   "execution_count": 2,
   "metadata": {},
   "outputs": [
    {
     "name": "stdout",
     "output_type": "stream",
     "text": [
      "A -> ['B', 'C']\n",
      "B -> ['A', 'D']\n",
      "C -> ['A', 'D', 'E']\n",
      "D -> ['B', 'C', 'E']\n",
      "E -> ['C', 'D']\n"
     ]
    }
   ],
   "source": [
    "all_edges = [\n",
    "    \n",
    "    (\"A\",\"B\"),(\"A\",\"C\"),(\"B\",\"D\"),(\"C\",\"D\"),(\"C\",\"E\"),(\"D\",\"E\")\n",
    "]\n",
    "nodes = [\"A\",\"B\",\"C\",\"D\",\"E\"]\n",
    "\n",
    "graph1 = Graph(nodes)\n",
    "#graph1.print_adj_list()\n",
    "\n",
    "for u,v in all_edges:\n",
    "    graph1.add_edge(u,v)\n",
    "\n",
    "##graph.add_edge(\"A\",\"B\")\n",
    "graph1.print_adj_list()"
   ]
  },
  {
   "cell_type": "code",
   "execution_count": null,
   "metadata": {},
   "outputs": [],
   "source": []
  },
  {
   "cell_type": "markdown",
   "metadata": {},
   "source": [
    "### Breath first Search"
   ]
  },
  {
   "cell_type": "code",
   "execution_count": null,
   "metadata": {},
   "outputs": [],
   "source": [
    "visited = []\n",
    "def bfs(graph, start):\n",
    "    \n",
    "    queue = Queue()\n",
    "    queue.queue(start)\n",
    "    \n",
    "    while not queue."
   ]
  },
  {
   "cell_type": "code",
   "execution_count": null,
   "metadata": {},
   "outputs": [],
   "source": []
  },
  {
   "cell_type": "code",
   "execution_count": null,
   "metadata": {},
   "outputs": [],
   "source": []
  }
 ],
 "metadata": {
  "kernelspec": {
   "display_name": "Python 3",
   "language": "python",
   "name": "python3"
  },
  "language_info": {
   "codemirror_mode": {
    "name": "ipython",
    "version": 3
   },
   "file_extension": ".py",
   "mimetype": "text/x-python",
   "name": "python",
   "nbconvert_exporter": "python",
   "pygments_lexer": "ipython3",
   "version": "3.8.3"
  }
 },
 "nbformat": 4,
 "nbformat_minor": 4
}
