{
 "cells": [
  {
   "cell_type": "code",
   "execution_count": null,
   "metadata": {},
   "outputs": [],
   "source": []
  },
  {
   "cell_type": "code",
   "execution_count": 78,
   "metadata": {},
   "outputs": [],
   "source": [
    "\n",
    "class Graph():\n",
    "    \n",
    "    def __init__(self, nodes):\n",
    "        self.nodes = nodes\n",
    "        self.matrix = {}\n",
    "        self.size = len(nodes)\n",
    "        self.columns = nodes\n",
    "        \n",
    "        \n",
    "        # add to our matrix using the size passed in\n",
    "        \n",
    "        for node in self.nodes:\n",
    "            self.matrix[node] = [0,0,0,0,0]\n",
    "    \n",
    "    def print_matrix(self):\n",
    "        \"\"\"Prints our matrix out\"\"\"\n",
    "        \n",
    "        for key in self.matrix:\n",
    "            for row in key:\n",
    "                print(row)\n",
    "            \n",
    "    \n",
    "    def __len__(self):\n",
    "        \"\"\"Returns Size of the Matrix\"\"\"\n",
    "        return self.size\n",
    "    \n",
    "    def find_index(self, vertex):\n",
    "        \n",
    "        for index, column in enumerate(self.columns):\n",
    "            if vertex in column:\n",
    "                return index\n",
    "    \n",
    "    \n",
    "    def add_edges(self, node, vertex):\n",
    "        \"Node would be our key and vertext, add to value\"\n",
    "        # Call to our find_index function\n",
    "        self.matrix[node][self.find_index(vertex)] = 1\n",
    "        self.matrix[vertex][node] = 1\n",
    "\n",
    "        \n",
    "    \n",
    "        \n",
    "        \n",
    "        \n",
    "        "
   ]
  },
  {
   "cell_type": "code",
   "execution_count": 70,
   "metadata": {},
   "outputs": [],
   "source": [
    "nodes = [\"A\",\"B\",\"C\",\"D\",\"E\"]"
   ]
  },
  {
   "cell_type": "code",
   "execution_count": 71,
   "metadata": {},
   "outputs": [
    {
     "data": {
      "text/plain": [
       "5"
      ]
     },
     "execution_count": 71,
     "metadata": {},
     "output_type": "execute_result"
    }
   ],
   "source": [
    "len(nodes)"
   ]
  },
  {
   "cell_type": "code",
   "execution_count": 72,
   "metadata": {},
   "outputs": [],
   "source": [
    "graph = Graph(nodes)"
   ]
  },
  {
   "cell_type": "code",
   "execution_count": 73,
   "metadata": {},
   "outputs": [
    {
     "data": {
      "text/plain": [
       "5"
      ]
     },
     "execution_count": 73,
     "metadata": {},
     "output_type": "execute_result"
    }
   ],
   "source": [
    "graph.__len__()"
   ]
  },
  {
   "cell_type": "code",
   "execution_count": 74,
   "metadata": {},
   "outputs": [
    {
     "name": "stdout",
     "output_type": "stream",
     "text": [
      "A\n",
      "B\n",
      "C\n",
      "D\n",
      "E\n"
     ]
    }
   ],
   "source": [
    "graph.print_matrix()"
   ]
  },
  {
   "cell_type": "code",
   "execution_count": null,
   "metadata": {},
   "outputs": [],
   "source": []
  },
  {
   "cell_type": "code",
   "execution_count": null,
   "metadata": {},
   "outputs": [],
   "source": []
  }
 ],
 "metadata": {
  "kernelspec": {
   "display_name": "Python 3",
   "language": "python",
   "name": "python3"
  },
  "language_info": {
   "codemirror_mode": {
    "name": "ipython",
    "version": 3
   },
   "file_extension": ".py",
   "mimetype": "text/x-python",
   "name": "python",
   "nbconvert_exporter": "python",
   "pygments_lexer": "ipython3",
   "version": "3.8.3"
  }
 },
 "nbformat": 4,
 "nbformat_minor": 4
}
