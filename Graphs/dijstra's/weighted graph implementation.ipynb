{
 "cells": [
  {
   "cell_type": "code",
   "execution_count": null,
   "metadata": {},
   "outputs": [],
   "source": []
  },
  {
   "cell_type": "code",
   "execution_count": 60,
   "metadata": {},
   "outputs": [],
   "source": [
    "class Vertex(object):\n",
    "    def __init__(self, key):\n",
    "        self.key = key\n",
    "        self.neighbors = {}\n",
    "\n",
    "    def add_neighbor(self, neighbor, weight=0):\n",
    "        self.neighbors[neighbor] = weight\n",
    "\n",
    "    def __str__(self):\n",
    "        print(\"using __str__ method\")\n",
    "        return '{} neighbors: {}'.format(self.key,[x.key for x in self.neighbors] )\n",
    "\n",
    "    def get_connections(self):\n",
    "        return self.neighbors.keys()\n",
    "\n",
    "    def get_weight(self, neighbor):\n",
    "        return self.neighbors[neighbor]"
   ]
  },
  {
   "cell_type": "code",
   "execution_count": 61,
   "metadata": {},
   "outputs": [],
   "source": [
    "class Graph(object):\n",
    "    def __init__(self):\n",
    "        self.verticies = {}\n",
    "\n",
    "    def add_vertex(self, vertex):\n",
    "        self.verticies[vertex.key] = vertex\n",
    "\n",
    "    def get_vertex(self, key):\n",
    "        try:\n",
    "            return self.verticies[key]\n",
    "        except KeyError:\n",
    "            return None\n",
    "\n",
    "    def __contains__(self, key):\n",
    "        return key in self.verticies\n",
    "\n",
    "    def add_edge(self, from_key, to_key, weight=0):\n",
    "        if from_key not in self.verticies:\n",
    "            self.add_vertex(Vertex(from_key))\n",
    "        if to_key not in self.verticies:\n",
    "            self.add_vertex(Vertex(to_key))\n",
    "        self.verticies[from_key].add_neighbor(self.verticies[to_key], weight)\n",
    "\n",
    "    def get_vertices(self):\n",
    "        return self.verticies.keys()\n",
    "\n",
    "    def __iter__(self):\n",
    "        return iter(self.verticies.values())"
   ]
  },
  {
   "cell_type": "code",
   "execution_count": 62,
   "metadata": {},
   "outputs": [],
   "source": [
    "g = Graph()"
   ]
  },
  {
   "cell_type": "code",
   "execution_count": 63,
   "metadata": {},
   "outputs": [],
   "source": [
    "for i in range(6):\n",
    "    g.add_vertex(Vertex(i))"
   ]
  },
  {
   "cell_type": "code",
   "execution_count": 64,
   "metadata": {},
   "outputs": [
    {
     "data": {
      "text/plain": [
       "{0: <__main__.Vertex at 0x7f7fa534dee0>,\n",
       " 1: <__main__.Vertex at 0x7f7fa534d910>,\n",
       " 2: <__main__.Vertex at 0x7f7fa534da90>,\n",
       " 3: <__main__.Vertex at 0x7f7fa534deb0>,\n",
       " 4: <__main__.Vertex at 0x7f7fa5346700>,\n",
       " 5: <__main__.Vertex at 0x7f7fa5346e20>}"
      ]
     },
     "execution_count": 64,
     "metadata": {},
     "output_type": "execute_result"
    }
   ],
   "source": [
    "g.verticies"
   ]
  },
  {
   "cell_type": "code",
   "execution_count": 65,
   "metadata": {},
   "outputs": [],
   "source": [
    "g.add_edge(0, 1, 5)\n",
    "g.add_edge(0, 5, 2)\n",
    "g.add_edge(1, 2, 4)\n",
    "g.add_edge(2, 3, 9)\n",
    "g.add_edge(3, 4, 7)\n",
    "g.add_edge(3, 5, 3)\n",
    "g.add_edge(4, 0, 1)\n",
    "g.add_edge(5, 4, 8)\n",
    "g.add_edge(5, 2, 1)"
   ]
  },
  {
   "cell_type": "code",
   "execution_count": 66,
   "metadata": {},
   "outputs": [
    {
     "name": "stdout",
     "output_type": "stream",
     "text": [
      "using __str__ method\n",
      "0 neighbors: [1, 5]\n",
      "using __str__ method\n",
      "1 neighbors: [2]\n",
      "using __str__ method\n",
      "2 neighbors: [3]\n",
      "using __str__ method\n",
      "3 neighbors: [4, 5]\n",
      "using __str__ method\n",
      "4 neighbors: [0]\n",
      "using __str__ method\n",
      "5 neighbors: [4, 2]\n"
     ]
    }
   ],
   "source": [
    "for v in g:\n",
    "    print(v)\n",
    "   # print(\"The Vertex is: \", v.key)\n",
    "    #for w in v.get_connections():\n",
    "        \n",
    "        \n",
    "      #  print('{} -> {}'.format(v.key, w.key))\n",
    "        \n",
    "    "
   ]
  },
  {
   "cell_type": "code",
   "execution_count": null,
   "metadata": {},
   "outputs": [],
   "source": []
  },
  {
   "cell_type": "code",
   "execution_count": null,
   "metadata": {},
   "outputs": [],
   "source": []
  },
  {
   "cell_type": "code",
   "execution_count": null,
   "metadata": {},
   "outputs": [],
   "source": []
  },
  {
   "cell_type": "code",
   "execution_count": null,
   "metadata": {},
   "outputs": [],
   "source": []
  },
  {
   "cell_type": "code",
   "execution_count": null,
   "metadata": {},
   "outputs": [],
   "source": []
  },
  {
   "cell_type": "code",
   "execution_count": null,
   "metadata": {},
   "outputs": [],
   "source": []
  },
  {
   "cell_type": "code",
   "execution_count": 24,
   "metadata": {},
   "outputs": [],
   "source": [
    "adj_list = {\"A\":{},\n",
    "            \"B\":{},\n",
    "            \"C\":{},\n",
    "            \"D\":{}\n",
    "           }"
   ]
  },
  {
   "cell_type": "code",
   "execution_count": 30,
   "metadata": {},
   "outputs": [],
   "source": [
    "adj_list[\"A\"] = (\"B\",5)\n",
    "adj_list[\"A\"] = (\"C\",8)\n",
    "adj_list[\"A\"] = (\"D\",3)\n",
    "\n"
   ]
  },
  {
   "cell_type": "code",
   "execution_count": 31,
   "metadata": {},
   "outputs": [
    {
     "data": {
      "text/plain": [
       "{'A': ('D', 3), 'B': {}, 'C': {}, 'D': {}}"
      ]
     },
     "execution_count": 31,
     "metadata": {},
     "output_type": "execute_result"
    }
   ],
   "source": [
    "adj_list"
   ]
  },
  {
   "cell_type": "code",
   "execution_count": 40,
   "metadata": {},
   "outputs": [],
   "source": [
    "class Graph1:\n",
    "    \n",
    "    def __init__(self, Nodes, is_directed = False):\n",
    "        self.nodes = Nodes\n",
    "        self.adj_list = {}\n",
    "    \n",
    "            \n",
    "    def add_edge_weight(self, u, v, w):\n",
    "                \n",
    "        self.adj_list[u].append({v,w})\n",
    "        \n",
    "    "
   ]
  },
  {
   "cell_type": "code",
   "execution_count": 41,
   "metadata": {},
   "outputs": [],
   "source": [
    "nodes = [\"A\",\"B\",\"C\",\"D\"]\n"
   ]
  },
  {
   "cell_type": "code",
   "execution_count": 42,
   "metadata": {},
   "outputs": [],
   "source": [
    "g = Graph1(nodes)"
   ]
  },
  {
   "cell_type": "code",
   "execution_count": 43,
   "metadata": {},
   "outputs": [
    {
     "ename": "KeyError",
     "evalue": "'A'",
     "output_type": "error",
     "traceback": [
      "\u001b[0;31m---------------------------------------------------------------------------\u001b[0m",
      "\u001b[0;31mKeyError\u001b[0m                                  Traceback (most recent call last)",
      "\u001b[0;32m<ipython-input-43-4902d3ddb45d>\u001b[0m in \u001b[0;36m<module>\u001b[0;34m\u001b[0m\n\u001b[0;32m----> 1\u001b[0;31m \u001b[0mg\u001b[0m\u001b[0;34m.\u001b[0m\u001b[0madd_edge_weight\u001b[0m\u001b[0;34m(\u001b[0m\u001b[0;34m\"A\"\u001b[0m\u001b[0;34m,\u001b[0m\u001b[0;34m\"B\"\u001b[0m\u001b[0;34m,\u001b[0m\u001b[0;36m3\u001b[0m\u001b[0;34m)\u001b[0m\u001b[0;34m\u001b[0m\u001b[0;34m\u001b[0m\u001b[0m\n\u001b[0m",
      "\u001b[0;32m<ipython-input-40-557f28b97aea>\u001b[0m in \u001b[0;36madd_edge_weight\u001b[0;34m(self, u, v, w)\u001b[0m\n\u001b[1;32m     10\u001b[0m         \u001b[0;34m'''adds edge from Vertex to new Vertex and the weight'''\u001b[0m\u001b[0;34m\u001b[0m\u001b[0;34m\u001b[0m\u001b[0m\n\u001b[1;32m     11\u001b[0m \u001b[0;34m\u001b[0m\u001b[0m\n\u001b[0;32m---> 12\u001b[0;31m         \u001b[0mself\u001b[0m\u001b[0;34m.\u001b[0m\u001b[0madj_list\u001b[0m\u001b[0;34m[\u001b[0m\u001b[0mu\u001b[0m\u001b[0;34m]\u001b[0m\u001b[0;34m.\u001b[0m\u001b[0mappend\u001b[0m\u001b[0;34m(\u001b[0m\u001b[0;34m{\u001b[0m\u001b[0mv\u001b[0m\u001b[0;34m,\u001b[0m\u001b[0mw\u001b[0m\u001b[0;34m}\u001b[0m\u001b[0;34m)\u001b[0m\u001b[0;34m\u001b[0m\u001b[0;34m\u001b[0m\u001b[0m\n\u001b[0m\u001b[1;32m     13\u001b[0m \u001b[0;34m\u001b[0m\u001b[0m\n\u001b[1;32m     14\u001b[0m \u001b[0;34m\u001b[0m\u001b[0m\n",
      "\u001b[0;31mKeyError\u001b[0m: 'A'"
     ]
    }
   ],
   "source": [
    "g.add_edge_weight(\"A\",\"B\",3)"
   ]
  },
  {
   "cell_type": "code",
   "execution_count": null,
   "metadata": {},
   "outputs": [],
   "source": []
  },
  {
   "cell_type": "code",
   "execution_count": null,
   "metadata": {},
   "outputs": [],
   "source": []
  },
  {
   "cell_type": "code",
   "execution_count": null,
   "metadata": {},
   "outputs": [],
   "source": []
  },
  {
   "cell_type": "code",
   "execution_count": null,
   "metadata": {},
   "outputs": [],
   "source": []
  },
  {
   "cell_type": "code",
   "execution_count": null,
   "metadata": {},
   "outputs": [],
   "source": []
  },
  {
   "cell_type": "code",
   "execution_count": null,
   "metadata": {},
   "outputs": [],
   "source": []
  },
  {
   "cell_type": "code",
   "execution_count": 9,
   "metadata": {},
   "outputs": [],
   "source": [
    "class Graph:\n",
    "    \n",
    "    def __init__(self, Nodes, is_directed = False):\n",
    "        self.nodes = Nodes\n",
    "        self.adj_list = {[]}\n",
    "        \n",
    "        self.is_directed = is_directed\n",
    "        \n",
    "        for node in self.nodes:\n",
    "            self.adj_list[node] = []\n",
    "            \n",
    "    def add_edge(self, u, v, w):\n",
    "        '''adds edge from Vertex to new Vertex and the weight'''\n",
    "        self.adj_list[u].append(v)\n",
    "        \n",
    "        if not self.is_directed:\n",
    "            \n",
    "            self.adj_list[v].append(u)\n",
    "        \n",
    "        \n",
    "    \n",
    "    def degree(self,node):\n",
    "        '''Total number of edges coming out a given node'''\n",
    "        deg = len(self.adj_list[node])\n",
    "        return deg\n",
    "    \n",
    "    def print_adj_list(self):\n",
    "        \n",
    "        for node in self.nodes:\n",
    "            print(node, \"->\", self.adj_list[node])\n",
    "    "
   ]
  },
  {
   "cell_type": "code",
   "execution_count": null,
   "metadata": {},
   "outputs": [],
   "source": []
  },
  {
   "cell_type": "code",
   "execution_count": null,
   "metadata": {},
   "outputs": [],
   "source": [
    "nodes = [\"A\",\"B\",\"C\",\"D\",\"E\"]\n",
    "\n",
    "all_edges = [\n",
    "\n",
    "    (\"A\",\"B\"),(\"A\",\"C\"),(\"B\",\"D\"),(\"C\",\"D\"),(\"C\",\"E\"),(\"D\",\"E\")\n",
    "]\n",
    "\n",
    "\n",
    "graph1 = Graph(nodes)\n",
    "\n",
    "for u,v in all_edges:\n",
    "    graph1.add_edge(u,v)\n",
    "\n",
    "graph1.print_adj_list()"
   ]
  },
  {
   "cell_type": "code",
   "execution_count": null,
   "metadata": {},
   "outputs": [],
   "source": []
  },
  {
   "cell_type": "code",
   "execution_count": null,
   "metadata": {},
   "outputs": [],
   "source": []
  },
  {
   "cell_type": "code",
   "execution_count": null,
   "metadata": {},
   "outputs": [],
   "source": []
  },
  {
   "cell_type": "code",
   "execution_count": null,
   "metadata": {},
   "outputs": [],
   "source": []
  },
  {
   "cell_type": "code",
   "execution_count": null,
   "metadata": {},
   "outputs": [],
   "source": []
  }
 ],
 "metadata": {
  "kernelspec": {
   "display_name": "Python 3",
   "language": "python",
   "name": "python3"
  },
  "language_info": {
   "codemirror_mode": {
    "name": "ipython",
    "version": 3
   },
   "file_extension": ".py",
   "mimetype": "text/x-python",
   "name": "python",
   "nbconvert_exporter": "python",
   "pygments_lexer": "ipython3",
   "version": "3.8.3"
  }
 },
 "nbformat": 4,
 "nbformat_minor": 4
}
